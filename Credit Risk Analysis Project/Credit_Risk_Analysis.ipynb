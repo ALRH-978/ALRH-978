{
 "cells": [
  {
   "cell_type": "markdown",
   "id": "7ec57aff",
   "metadata": {},
   "source": [
    "## Credit Risk Analysis Project\n",
    "### 365 Data Science: Complete Data Analysis Bootcamp\n",
    "\n",
    "In this project, I am preparing a loan application dataset in order for it to be used in a Machine Learning model to predict the probability of default."
   ]
  },
  {
   "cell_type": "code",
   "execution_count": 1,
   "id": "602e362c",
   "metadata": {},
   "outputs": [],
   "source": [
    "import numpy as np\n",
    "\n",
    "import warnings\n",
    "warnings.filterwarnings('ignore')"
   ]
  },
  {
   "cell_type": "code",
   "execution_count": 2,
   "id": "5840b649",
   "metadata": {},
   "outputs": [],
   "source": [
    "np.set_printoptions(suppress= True, linewidth= 100, precision= 2)"
   ]
  },
  {
   "cell_type": "code",
   "execution_count": 3,
   "id": "39bcf70c",
   "metadata": {},
   "outputs": [
    {
     "data": {
      "text/plain": [
       "array([[48010226.  ,         nan,    35000.  , ...,         nan,         nan,     9452.96],\n",
       "       [57693261.  ,         nan,    30000.  , ...,         nan,         nan,     4679.7 ],\n",
       "       [59432726.  ,         nan,    15000.  , ...,         nan,         nan,     1969.83],\n",
       "       ...,\n",
       "       [50415990.  ,         nan,    10000.  , ...,         nan,         nan,     2185.64],\n",
       "       [46154151.  ,         nan,         nan, ...,         nan,         nan,     3199.4 ],\n",
       "       [66055249.  ,         nan,    10000.  , ...,         nan,         nan,      301.9 ]])"
      ]
     },
     "execution_count": 3,
     "metadata": {},
     "output_type": "execute_result"
    }
   ],
   "source": [
    "path = 'loan-data.csv'\n",
    "raw_data_np = np.genfromtxt(path, delimiter = ';', skip_header = 1, autostrip = True, encoding =  'latin1')\n",
    "raw_data_np"
   ]
  },
  {
   "cell_type": "markdown",
   "id": "844e3bc5",
   "metadata": {},
   "source": [
    "### Checking for Incomplete Data"
   ]
  },
  {
   "cell_type": "markdown",
   "id": "465293a8",
   "metadata": {},
   "source": [
    "#### First I will check the number of missing values"
   ]
  },
  {
   "cell_type": "code",
   "execution_count": 4,
   "id": "81d86918",
   "metadata": {},
   "outputs": [
    {
     "data": {
      "text/plain": [
       "88005"
      ]
     },
     "execution_count": 4,
     "metadata": {},
     "output_type": "execute_result"
    }
   ],
   "source": [
    "np.isnan(raw_data_np).sum()"
   ]
  },
  {
   "cell_type": "code",
   "execution_count": 5,
   "id": "cce839de",
   "metadata": {},
   "outputs": [],
   "source": [
    "#I will now establish how I will temporarily fill the missing values\n",
    "temporary_fill = np.nanmax(raw_data_np) + 1\n",
    "temporary_mean = np.nanmean(raw_data_np, axis = 0)"
   ]
  },
  {
   "cell_type": "code",
   "execution_count": 6,
   "id": "906fd6d5",
   "metadata": {},
   "outputs": [
    {
     "data": {
      "text/plain": [
       "array([54015809.19,         nan,    15273.46,         nan,    15311.04,         nan,       16.62,\n",
       "            440.92,         nan,         nan,         nan,         nan,         nan,     3143.85])"
      ]
     },
     "execution_count": 6,
     "metadata": {},
     "output_type": "execute_result"
    }
   ],
   "source": [
    "temporary_mean"
   ]
  },
  {
   "cell_type": "markdown",
   "id": "42cb7ee9",
   "metadata": {},
   "source": [
    "#### Here, I can see that there are 8 columns that consist of text values. This is important as it will impact how I will split the data later on."
   ]
  },
  {
   "cell_type": "code",
   "execution_count": 7,
   "id": "ec4a15aa",
   "metadata": {},
   "outputs": [],
   "source": [
    "temporary_stats = np.array([np.nanmin(raw_data_np, axis = 0),\n",
    "                            temporary_mean,\n",
    "                            np.nanmax(raw_data_np, axis = 0)])"
   ]
  },
  {
   "cell_type": "markdown",
   "id": "07de0114",
   "metadata": {},
   "source": [
    "### Splitting the Data"
   ]
  },
  {
   "cell_type": "markdown",
   "id": "96085d9e",
   "metadata": {},
   "source": [
    "#### I will first determine which columns contain string values and which ones contain numeric values"
   ]
  },
  {
   "cell_type": "code",
   "execution_count": 8,
   "id": "635a0ac7",
   "metadata": {},
   "outputs": [],
   "source": [
    "columns_strings = np.argwhere(np.isnan(temporary_mean)).squeeze()\n",
    "columns_numeric = np.argwhere(np.isnan(temporary_mean)== False).squeeze()"
   ]
  },
  {
   "cell_type": "code",
   "execution_count": 9,
   "id": "cc5cfe36",
   "metadata": {},
   "outputs": [
    {
     "data": {
      "text/plain": [
       "array([ 1,  3,  5,  8,  9, 10, 11, 12])"
      ]
     },
     "execution_count": 9,
     "metadata": {},
     "output_type": "execute_result"
    }
   ],
   "source": [
    "columns_strings"
   ]
  },
  {
   "cell_type": "code",
   "execution_count": 10,
   "id": "430753a2",
   "metadata": {},
   "outputs": [
    {
     "data": {
      "text/plain": [
       "array([ 0,  2,  4,  6,  7, 13])"
      ]
     },
     "execution_count": 10,
     "metadata": {},
     "output_type": "execute_result"
    }
   ],
   "source": [
    "columns_numeric"
   ]
  },
  {
   "cell_type": "markdown",
   "id": "ce4335ba",
   "metadata": {},
   "source": [
    "### Re-Importing the Dataset"
   ]
  },
  {
   "cell_type": "code",
   "execution_count": 12,
   "id": "15ac6632",
   "metadata": {},
   "outputs": [
    {
     "data": {
      "text/plain": [
       "array([['May-15', 'Current', '36 months', ..., 'Verified',\n",
       "        'https://www.lendingclub.com/browse/loanDetail.action?loan_id=48010226', 'CA'],\n",
       "       ['', 'Current', '36 months', ..., 'Source Verified',\n",
       "        'https://www.lendingclub.com/browse/loanDetail.action?loan_id=57693261', 'NY'],\n",
       "       ['Sep-15', 'Current', '36 months', ..., 'Verified',\n",
       "        'https://www.lendingclub.com/browse/loanDetail.action?loan_id=59432726', 'PA'],\n",
       "       ...,\n",
       "       ['Jun-15', 'Current', '36 months', ..., 'Source Verified',\n",
       "        'https://www.lendingclub.com/browse/loanDetail.action?loan_id=50415990', 'CA'],\n",
       "       ['Apr-15', 'Current', '36 months', ..., 'Source Verified',\n",
       "        'https://www.lendingclub.com/browse/loanDetail.action?loan_id=46154151', 'OH'],\n",
       "       ['Dec-15', 'Current', '36 months', ..., '',\n",
       "        'https://www.lendingclub.com/browse/loanDetail.action?loan_id=66055249', 'IL']],\n",
       "      dtype='<U69')"
      ]
     },
     "execution_count": 12,
     "metadata": {},
     "output_type": "execute_result"
    }
   ],
   "source": [
    "path = 'loan-data.csv'\n",
    "\n",
    "loan_data_strings = np.genfromtxt(path, delimiter = ';',\n",
    "                                  skip_header = 1,\n",
    "                                  autostrip = True,\n",
    "                                  encoding =  'latin1',\n",
    "                                  usecols = columns_strings,\n",
    "                                  dtype = str)\n",
    "loan_data_strings"
   ]
  },
  {
   "cell_type": "code",
   "execution_count": 13,
   "id": "aaac5479",
   "metadata": {},
   "outputs": [
    {
     "data": {
      "text/plain": [
       "array([[48010226.  ,    35000.  ,    35000.  ,       13.33,     1184.86,     9452.96],\n",
       "       [57693261.  ,    30000.  ,    30000.  , 68616520.  ,      938.57,     4679.7 ],\n",
       "       [59432726.  ,    15000.  ,    15000.  , 68616520.  ,      494.86,     1969.83],\n",
       "       ...,\n",
       "       [50415990.  ,    10000.  ,    10000.  , 68616520.  , 68616520.  ,     2185.64],\n",
       "       [46154151.  , 68616520.  ,    10000.  ,       16.55,      354.3 ,     3199.4 ],\n",
       "       [66055249.  ,    10000.  ,    10000.  , 68616520.  ,      309.97,      301.9 ]])"
      ]
     },
     "execution_count": 13,
     "metadata": {},
     "output_type": "execute_result"
    }
   ],
   "source": [
    "loan_data_numeric = np.genfromtxt(path, delimiter = ';',\n",
    "                                  skip_header = 1,\n",
    "                                  autostrip = True,\n",
    "                                  encoding =  'latin1',\n",
    "                                  usecols = columns_numeric,\n",
    "                                  filling_values = temporary_fill)\n",
    "loan_data_numeric"
   ]
  },
  {
   "cell_type": "markdown",
   "id": "72783604",
   "metadata": {},
   "source": [
    "### Adding the Column Names to the 2 Datasets"
   ]
  },
  {
   "cell_type": "markdown",
   "id": "17efd920",
   "metadata": {},
   "source": [
    "#### First I will store all of the headers in a variable"
   ]
  },
  {
   "cell_type": "code",
   "execution_count": 14,
   "id": "e3e99c8f",
   "metadata": {},
   "outputs": [
    {
     "data": {
      "text/plain": [
       "array(['id', 'issue_d', 'loan_amnt', 'loan_status', 'funded_amnt', 'term', 'int_rate',\n",
       "       'installment', 'grade', 'sub_grade', 'verification_status', 'url', 'addr_state',\n",
       "       'total_pymnt'], dtype='<U19')"
      ]
     },
     "execution_count": 14,
     "metadata": {},
     "output_type": "execute_result"
    }
   ],
   "source": [
    "header_full = np.genfromtxt(path, delimiter = ';',\n",
    "                                  autostrip = True,\n",
    "                                  encoding =  'latin1',\n",
    "                                  skip_footer = raw_data_np.shape[0],\n",
    "                                  dtype = str)\n",
    "header_full"
   ]
  },
  {
   "cell_type": "code",
   "execution_count": 15,
   "id": "e0d91688",
   "metadata": {},
   "outputs": [],
   "source": [
    "header_strings, header_numeric = header_full[columns_strings],header_full[columns_numeric]"
   ]
  },
  {
   "cell_type": "code",
   "execution_count": 16,
   "id": "d7b4b422",
   "metadata": {},
   "outputs": [
    {
     "data": {
      "text/plain": [
       "array(['issue_d', 'loan_status', 'term', 'grade', 'sub_grade', 'verification_status', 'url',\n",
       "       'addr_state'], dtype='<U19')"
      ]
     },
     "execution_count": 16,
     "metadata": {},
     "output_type": "execute_result"
    }
   ],
   "source": [
    "header_strings"
   ]
  },
  {
   "cell_type": "code",
   "execution_count": 17,
   "id": "732eac53",
   "metadata": {},
   "outputs": [
    {
     "data": {
      "text/plain": [
       "array(['id', 'loan_amnt', 'funded_amnt', 'int_rate', 'installment', 'total_pymnt'], dtype='<U19')"
      ]
     },
     "execution_count": 17,
     "metadata": {},
     "output_type": "execute_result"
    }
   ],
   "source": [
    "header_numeric"
   ]
  },
  {
   "cell_type": "markdown",
   "id": "35692168",
   "metadata": {},
   "source": [
    "## Manipulating String Columns"
   ]
  },
  {
   "cell_type": "markdown",
   "id": "102ded63",
   "metadata": {},
   "source": [
    "### Making Headers More Clear"
   ]
  },
  {
   "cell_type": "code",
   "execution_count": 18,
   "id": "45547fca",
   "metadata": {},
   "outputs": [
    {
     "data": {
      "text/plain": [
       "array(['issue_d', 'loan_status', 'term', 'grade', 'sub_grade', 'verification_status', 'url',\n",
       "       'addr_state'], dtype='<U19')"
      ]
     },
     "execution_count": 18,
     "metadata": {},
     "output_type": "execute_result"
    }
   ],
   "source": [
    "header_strings"
   ]
  },
  {
   "cell_type": "markdown",
   "id": "74dc3249",
   "metadata": {},
   "source": [
    "#### Since the first header might be a bit unclear, I will change it"
   ]
  },
  {
   "cell_type": "code",
   "execution_count": 19,
   "id": "fce5b909",
   "metadata": {},
   "outputs": [],
   "source": [
    "header_strings[0] = 'issue_date'"
   ]
  },
  {
   "cell_type": "code",
   "execution_count": 20,
   "id": "091b2a41",
   "metadata": {},
   "outputs": [
    {
     "data": {
      "text/plain": [
       "array(['issue_date', 'loan_status', 'term', 'grade', 'sub_grade', 'verification_status', 'url',\n",
       "       'addr_state'], dtype='<U19')"
      ]
     },
     "execution_count": 20,
     "metadata": {},
     "output_type": "execute_result"
    }
   ],
   "source": [
    "header_strings"
   ]
  },
  {
   "cell_type": "markdown",
   "id": "8ec42813",
   "metadata": {},
   "source": [
    "### 1. Issue Date"
   ]
  },
  {
   "cell_type": "code",
   "execution_count": 21,
   "id": "445382fb",
   "metadata": {},
   "outputs": [
    {
     "data": {
      "text/plain": [
       "array(['', 'Apr-15', 'Aug-15', 'Dec-15', 'Feb-15', 'Jan-15', 'Jul-15', 'Jun-15', 'Mar-15',\n",
       "       'May-15', 'Nov-15', 'Oct-15', 'Sep-15'], dtype='<U69')"
      ]
     },
     "execution_count": 21,
     "metadata": {},
     "output_type": "execute_result"
    }
   ],
   "source": [
    "np.unique(loan_data_strings[:, 0])"
   ]
  },
  {
   "cell_type": "markdown",
   "id": "57ce0ade",
   "metadata": {},
   "source": [
    "#### Here I can see that all of the loan issue dates occurred in 2015. Therefore, I can remove the '-15' without losing any meaning from the data."
   ]
  },
  {
   "cell_type": "code",
   "execution_count": 22,
   "id": "ac325131",
   "metadata": {},
   "outputs": [],
   "source": [
    "loan_data_strings[:, 0] = np.chararray.strip(loan_data_strings[:, 0], '-15')"
   ]
  },
  {
   "cell_type": "code",
   "execution_count": 23,
   "id": "a3672519",
   "metadata": {},
   "outputs": [
    {
     "data": {
      "text/plain": [
       "array(['May', '', 'Sep', ..., 'Jun', 'Apr', 'Dec'], dtype='<U69')"
      ]
     },
     "execution_count": 23,
     "metadata": {},
     "output_type": "execute_result"
    }
   ],
   "source": [
    "loan_data_strings[:, 0]"
   ]
  },
  {
   "cell_type": "markdown",
   "id": "a1e11dec",
   "metadata": {},
   "source": [
    "#### In order to cut down on memory use, I will now change the month string to the corresponding integer."
   ]
  },
  {
   "cell_type": "code",
   "execution_count": 24,
   "id": "5c900cc9",
   "metadata": {},
   "outputs": [],
   "source": [
    "months = np.array(['', 'Jan', 'Feb', 'Mar', 'Apr', 'May', 'Jun', 'Jul', 'Aug', 'Sep', 'Oct', 'Nov', 'Dec'])"
   ]
  },
  {
   "cell_type": "markdown",
   "id": "87ac0993",
   "metadata": {},
   "source": [
    "#### I will use a for loop to iterate over the column and assign an integer for string values. \"0\" indicates missing data."
   ]
  },
  {
   "cell_type": "code",
   "execution_count": 25,
   "id": "5199135e",
   "metadata": {},
   "outputs": [],
   "source": [
    "for i in range (13):\n",
    "  loan_data_strings[:,0] = np.where(loan_data_strings[:,0] == months[i],\n",
    "                                    i,\n",
    "                                    loan_data_strings[:,0])"
   ]
  },
  {
   "cell_type": "code",
   "execution_count": 26,
   "id": "e61067f8",
   "metadata": {},
   "outputs": [
    {
     "data": {
      "text/plain": [
       "array(['0', '1', '10', '11', '12', '2', '3', '4', '5', '6', '7', '8', '9'], dtype='<U69')"
      ]
     },
     "execution_count": 26,
     "metadata": {},
     "output_type": "execute_result"
    }
   ],
   "source": [
    "np.unique(loan_data_strings[:,0])"
   ]
  },
  {
   "cell_type": "markdown",
   "id": "412d8081",
   "metadata": {},
   "source": [
    "### 2. Loan Status"
   ]
  },
  {
   "cell_type": "code",
   "execution_count": 27,
   "id": "092bacc1",
   "metadata": {},
   "outputs": [
    {
     "data": {
      "text/plain": [
       "array(['', 'Charged Off', 'Current', 'Default', 'Fully Paid', 'In Grace Period', 'Issued',\n",
       "       'Late (16-30 days)', 'Late (31-120 days)'], dtype='<U69')"
      ]
     },
     "execution_count": 27,
     "metadata": {},
     "output_type": "execute_result"
    }
   ],
   "source": [
    "np.unique(loan_data_strings[:,1])"
   ]
  },
  {
   "cell_type": "markdown",
   "id": "ab32aa7c",
   "metadata": {},
   "source": [
    "#### In reviewing these candidates, the bank would like these statuses categorized into either \"good\" or \"bad\" financial condition. 1 will indicate \"good\", and 0 will indicate \"bad\"."
   ]
  },
  {
   "cell_type": "code",
   "execution_count": 28,
   "id": "d6cbc1eb",
   "metadata": {},
   "outputs": [],
   "source": [
    "status_bad = np.array(['', 'Charged Off', 'Default', 'Late (31-120 days)'])"
   ]
  },
  {
   "cell_type": "code",
   "execution_count": 29,
   "id": "d9637697",
   "metadata": {},
   "outputs": [],
   "source": [
    "loan_data_strings[:,1] = np.where(np.isin(loan_data_strings[:,1], status_bad), 0, 1)"
   ]
  },
  {
   "cell_type": "code",
   "execution_count": 30,
   "id": "5ff72cf7",
   "metadata": {},
   "outputs": [
    {
     "data": {
      "text/plain": [
       "array(['0', '1'], dtype='<U69')"
      ]
     },
     "execution_count": 30,
     "metadata": {},
     "output_type": "execute_result"
    }
   ],
   "source": [
    "np.unique(loan_data_strings[:,1])"
   ]
  },
  {
   "cell_type": "markdown",
   "id": "5722435f",
   "metadata": {},
   "source": [
    "### 3. Term"
   ]
  },
  {
   "cell_type": "code",
   "execution_count": 31,
   "id": "f373b332",
   "metadata": {},
   "outputs": [
    {
     "data": {
      "text/plain": [
       "array(['36 months', '36 months', '36 months', ..., '36 months', '36 months', '36 months'],\n",
       "      dtype='<U69')"
      ]
     },
     "execution_count": 31,
     "metadata": {},
     "output_type": "execute_result"
    }
   ],
   "source": [
    "loan_data_strings[:,2]"
   ]
  },
  {
   "cell_type": "markdown",
   "id": "9999c300",
   "metadata": {},
   "source": [
    "#### Since the text 'months' does not provide meaningful value, I will strip it from the column. I will also rename the header to \"term_months\" so that the numeric values are clear."
   ]
  },
  {
   "cell_type": "code",
   "execution_count": 32,
   "id": "77dab0b5",
   "metadata": {},
   "outputs": [
    {
     "data": {
      "text/plain": [
       "array(['36', '36', '36', ..., '36', '36', '36'], dtype='<U69')"
      ]
     },
     "execution_count": 32,
     "metadata": {},
     "output_type": "execute_result"
    }
   ],
   "source": [
    "loan_data_strings[:,2] = np.chararray.strip(loan_data_strings[:,2], ' months')\n",
    "loan_data_strings[:,2]"
   ]
  },
  {
   "cell_type": "code",
   "execution_count": 33,
   "id": "5096d6f0",
   "metadata": {},
   "outputs": [],
   "source": [
    "header_strings[2] = 'term_months'"
   ]
  },
  {
   "cell_type": "markdown",
   "id": "097ca7dc",
   "metadata": {},
   "source": [
    "#### In credit risk modeling, one assumes the worst. Therefore, the missing values will receive the worst value of \"60\" months."
   ]
  },
  {
   "cell_type": "code",
   "execution_count": 34,
   "id": "9b604bd2",
   "metadata": {},
   "outputs": [],
   "source": [
    "loan_data_strings[:, 2] = np.where(loan_data_strings[:, 2] == '',\n",
    "                                   60,\n",
    "                                   loan_data_strings[:, 2])"
   ]
  },
  {
   "cell_type": "code",
   "execution_count": 35,
   "id": "82a4191b",
   "metadata": {},
   "outputs": [
    {
     "data": {
      "text/plain": [
       "array(['36', '60'], dtype='<U69')"
      ]
     },
     "execution_count": 35,
     "metadata": {},
     "output_type": "execute_result"
    }
   ],
   "source": [
    "np.unique(loan_data_strings[:, 2])"
   ]
  },
  {
   "cell_type": "markdown",
   "id": "86c93ced",
   "metadata": {},
   "source": [
    "### 4. Grade and Subgrade"
   ]
  },
  {
   "cell_type": "code",
   "execution_count": 36,
   "id": "2d63ab5c",
   "metadata": {},
   "outputs": [
    {
     "data": {
      "text/plain": [
       "array(['', 'A', 'B', 'C', 'D', 'E', 'F', 'G'], dtype='<U69')"
      ]
     },
     "execution_count": 36,
     "metadata": {},
     "output_type": "execute_result"
    }
   ],
   "source": [
    "np.unique(loan_data_strings[:, 3])"
   ]
  },
  {
   "cell_type": "code",
   "execution_count": 37,
   "id": "7320ed07",
   "metadata": {},
   "outputs": [
    {
     "data": {
      "text/plain": [
       "array(['', 'A1', 'A2', 'A3', 'A4', 'A5', 'B1', 'B2', 'B3', 'B4', 'B5', 'C1', 'C2', 'C3', 'C4',\n",
       "       'C5', 'D1', 'D2', 'D3', 'D4', 'D5', 'E1', 'E2', 'E3', 'E4', 'E5', 'F1', 'F2', 'F3', 'F4',\n",
       "       'F5', 'G1', 'G2', 'G3', 'G4', 'G5'], dtype='<U69')"
      ]
     },
     "execution_count": 37,
     "metadata": {},
     "output_type": "execute_result"
    }
   ],
   "source": [
    "np.unique(loan_data_strings[:, 4])"
   ]
  },
  {
   "cell_type": "markdown",
   "id": "14859689",
   "metadata": {},
   "source": [
    "#### When considering how to fill in the missing data in the \"Subgrade\" column, I will fill it in with the worst value in its own grade (for example: B will be B5) instead of the worst overall score - G5"
   ]
  },
  {
   "cell_type": "code",
   "execution_count": 38,
   "id": "4706dd68",
   "metadata": {},
   "outputs": [],
   "source": [
    "for i in np.unique(loan_data_strings[:,3])[1:]:\n",
    "  loan_data_strings[:,4] = np.where((loan_data_strings[:,4] == '') & (loan_data_strings[:,3] == i),\n",
    "                                    i + '5',\n",
    "                                    loan_data_strings[:,4])"
   ]
  },
  {
   "cell_type": "code",
   "execution_count": 39,
   "id": "3dbb94e9",
   "metadata": {},
   "outputs": [
    {
     "data": {
      "text/plain": [
       "array(['', 'A1', 'A2', 'A3', 'A4', 'A5', 'B1', 'B2', 'B3', 'B4', 'B5', 'C1', 'C2', 'C3', 'C4',\n",
       "       'C5', 'D1', 'D2', 'D3', 'D4', 'D5', 'E1', 'E2', 'E3', 'E4', 'E5', 'F1', 'F2', 'F3', 'F4',\n",
       "       'F5', 'G1', 'G2', 'G3', 'G4', 'G5'], dtype='<U69')"
      ]
     },
     "execution_count": 39,
     "metadata": {},
     "output_type": "execute_result"
    }
   ],
   "source": [
    "np.unique(loan_data_strings[:,4])"
   ]
  },
  {
   "cell_type": "markdown",
   "id": "f762c899",
   "metadata": {},
   "source": [
    "#### Here, I can see that there are still some missing values in this column, where both the grade and the subgrade are missing. Because credit risk analysis is risk averse, there is a penalty for not disclosing this information. The appropriate step then is to create a new category following the convention. Those applicants who do not provide any of this information will be labeled as 'H1'"
   ]
  },
  {
   "cell_type": "code",
   "execution_count": 40,
   "id": "61506f3f",
   "metadata": {},
   "outputs": [],
   "source": [
    "loan_data_strings[:,4] = np.where(loan_data_strings[:,4] == '',\n",
    "                                  'H1',\n",
    "                                  loan_data_strings[:,4])"
   ]
  },
  {
   "cell_type": "code",
   "execution_count": 41,
   "id": "4f1cabd0",
   "metadata": {},
   "outputs": [
    {
     "data": {
      "text/plain": [
       "array(['A1', 'A2', 'A3', 'A4', 'A5', 'B1', 'B2', 'B3', 'B4', 'B5', 'C1', 'C2', 'C3', 'C4', 'C5',\n",
       "       'D1', 'D2', 'D3', 'D4', 'D5', 'E1', 'E2', 'E3', 'E4', 'E5', 'F1', 'F2', 'F3', 'F4', 'F5',\n",
       "       'G1', 'G2', 'G3', 'G4', 'G5', 'H1'], dtype='<U69')"
      ]
     },
     "execution_count": 41,
     "metadata": {},
     "output_type": "execute_result"
    }
   ],
   "source": [
    "np.unique(loan_data_strings[:,4])"
   ]
  },
  {
   "cell_type": "markdown",
   "id": "28360ad7",
   "metadata": {},
   "source": [
    "#### At this point, the Grade column is no longer necessary, so I will drop it from the dataset.\n"
   ]
  },
  {
   "cell_type": "code",
   "execution_count": 42,
   "id": "fc565f43",
   "metadata": {},
   "outputs": [],
   "source": [
    "loan_data_strings = np.delete(loan_data_strings, 3, axis = 1)"
   ]
  },
  {
   "cell_type": "code",
   "execution_count": 43,
   "id": "2e13a9e9",
   "metadata": {},
   "outputs": [
    {
     "data": {
      "text/plain": [
       "array(['C3', 'A5', 'B5', ..., 'A5', 'D2', 'A4'], dtype='<U69')"
      ]
     },
     "execution_count": 43,
     "metadata": {},
     "output_type": "execute_result"
    }
   ],
   "source": [
    "loan_data_strings[:,3]"
   ]
  },
  {
   "cell_type": "code",
   "execution_count": 44,
   "id": "04205bdf",
   "metadata": {},
   "outputs": [],
   "source": [
    "header_strings = np.delete(header_strings,3)"
   ]
  },
  {
   "cell_type": "code",
   "execution_count": 45,
   "id": "c221f359",
   "metadata": {},
   "outputs": [
    {
     "data": {
      "text/plain": [
       "'sub_grade'"
      ]
     },
     "execution_count": 45,
     "metadata": {},
     "output_type": "execute_result"
    }
   ],
   "source": [
    "header_strings[3]"
   ]
  },
  {
   "cell_type": "markdown",
   "id": "6845bc84",
   "metadata": {},
   "source": [
    "#### I will need to assign a numeric value along with the subgrade score, so I will create a dictionary."
   ]
  },
  {
   "cell_type": "code",
   "execution_count": 46,
   "id": "7a86c45c",
   "metadata": {},
   "outputs": [
    {
     "data": {
      "text/plain": [
       "{'A1': 1,\n",
       " 'A2': 2,\n",
       " 'A3': 3,\n",
       " 'A4': 4,\n",
       " 'A5': 5,\n",
       " 'B1': 6,\n",
       " 'B2': 7,\n",
       " 'B3': 8,\n",
       " 'B4': 9,\n",
       " 'B5': 10,\n",
       " 'C1': 11,\n",
       " 'C2': 12,\n",
       " 'C3': 13,\n",
       " 'C4': 14,\n",
       " 'C5': 15,\n",
       " 'D1': 16,\n",
       " 'D2': 17,\n",
       " 'D3': 18,\n",
       " 'D4': 19,\n",
       " 'D5': 20,\n",
       " 'E1': 21,\n",
       " 'E2': 22,\n",
       " 'E3': 23,\n",
       " 'E4': 24,\n",
       " 'E5': 25,\n",
       " 'F1': 26,\n",
       " 'F2': 27,\n",
       " 'F3': 28,\n",
       " 'F4': 29,\n",
       " 'F5': 30,\n",
       " 'G1': 31,\n",
       " 'G2': 32,\n",
       " 'G3': 33,\n",
       " 'G4': 34,\n",
       " 'G5': 35,\n",
       " 'H1': 36}"
      ]
     },
     "execution_count": 46,
     "metadata": {},
     "output_type": "execute_result"
    }
   ],
   "source": [
    "keys = list(np.unique(loan_data_strings[:,3]))\n",
    "values = list(range (1, np.unique(loan_data_strings[:,3]).shape[0] + 1))\n",
    "dict_sub_grade = dict(zip(keys, values))\n",
    "dict_sub_grade"
   ]
  },
  {
   "cell_type": "markdown",
   "id": "67982fff",
   "metadata": {},
   "source": [
    "#### Now I will apply the numeric score to each subgrade"
   ]
  },
  {
   "cell_type": "code",
   "execution_count": 47,
   "id": "738603b1",
   "metadata": {},
   "outputs": [],
   "source": [
    "for i in np.unique(loan_data_strings[:,3]):\n",
    "  loan_data_strings[:,3] = np.where(loan_data_strings[:,3] == i,\n",
    "                                    dict_sub_grade[i],\n",
    "                                    loan_data_strings[:,3])"
   ]
  },
  {
   "cell_type": "code",
   "execution_count": 48,
   "id": "2ce24ba2",
   "metadata": {},
   "outputs": [
    {
     "data": {
      "text/plain": [
       "array(['1', '10', '11', '12', '13', '14', '15', '16', '17', '18', '19', '2', '20', '21', '22',\n",
       "       '23', '24', '25', '26', '27', '28', '29', '3', '30', '31', '32', '33', '34', '35', '36',\n",
       "       '4', '5', '6', '7', '8', '9'], dtype='<U69')"
      ]
     },
     "execution_count": 48,
     "metadata": {},
     "output_type": "execute_result"
    }
   ],
   "source": [
    "np.unique(loan_data_strings[:,3])"
   ]
  },
  {
   "cell_type": "markdown",
   "id": "f4f5e722",
   "metadata": {},
   "source": [
    "### 5. Verification Status"
   ]
  },
  {
   "cell_type": "code",
   "execution_count": 49,
   "id": "952cc93f",
   "metadata": {},
   "outputs": [
    {
     "data": {
      "text/plain": [
       "array(['', 'Not Verified', 'Source Verified', 'Verified'], dtype='<U69')"
      ]
     },
     "execution_count": 49,
     "metadata": {},
     "output_type": "execute_result"
    }
   ],
   "source": [
    "np.unique(loan_data_strings[:,4])"
   ]
  },
  {
   "cell_type": "markdown",
   "id": "71e87016",
   "metadata": {},
   "source": [
    "#### This column indicates in the investor's funds are verified or not. Missing data is equivalent to \"Not Verified\", while \"Source Verified\" and \"Verified\" have the same meaning. In keeping with convention, 1 will denote the \"good\" category, and 0 will mean the \"bad\" category."
   ]
  },
  {
   "cell_type": "code",
   "execution_count": 50,
   "id": "a2c9be10",
   "metadata": {},
   "outputs": [],
   "source": [
    "loan_data_strings[:,4] = np.where((loan_data_strings[:,4] == '') | (loan_data_strings[:,4] == 'Not Verified'), 0, 1)"
   ]
  },
  {
   "cell_type": "code",
   "execution_count": 51,
   "id": "d035ddbb",
   "metadata": {},
   "outputs": [
    {
     "data": {
      "text/plain": [
       "array(['0', '1'], dtype='<U69')"
      ]
     },
     "execution_count": 51,
     "metadata": {},
     "output_type": "execute_result"
    }
   ],
   "source": [
    "np.unique(loan_data_strings[:,4])"
   ]
  },
  {
   "cell_type": "markdown",
   "id": "c4006ecd",
   "metadata": {},
   "source": [
    "### 6. URL"
   ]
  },
  {
   "cell_type": "code",
   "execution_count": 52,
   "id": "9f63780a",
   "metadata": {},
   "outputs": [
    {
     "data": {
      "text/plain": [
       "array(['https://www.lendingclub.com/browse/loanDetail.action?loan_id=48010226',\n",
       "       'https://www.lendingclub.com/browse/loanDetail.action?loan_id=57693261',\n",
       "       'https://www.lendingclub.com/browse/loanDetail.action?loan_id=59432726', ...,\n",
       "       'https://www.lendingclub.com/browse/loanDetail.action?loan_id=50415990',\n",
       "       'https://www.lendingclub.com/browse/loanDetail.action?loan_id=46154151',\n",
       "       'https://www.lendingclub.com/browse/loanDetail.action?loan_id=66055249'], dtype='<U69')"
      ]
     },
     "execution_count": 52,
     "metadata": {},
     "output_type": "execute_result"
    }
   ],
   "source": [
    "loan_data_strings[:,5]"
   ]
  },
  {
   "cell_type": "markdown",
   "id": "0c18418b",
   "metadata": {},
   "source": [
    "#### Here, I can see that much of this information is repeated, so I will strip some of the data."
   ]
  },
  {
   "cell_type": "code",
   "execution_count": 53,
   "id": "ec9eb62c",
   "metadata": {},
   "outputs": [],
   "source": [
    "loan_data_strings[:,5] = np.chararray.strip(loan_data_strings[:,5], 'https://www.lendingclub.com/browse/loanDetail.action?loan_id=')"
   ]
  },
  {
   "cell_type": "markdown",
   "id": "a2cccd3a",
   "metadata": {},
   "source": [
    "#### I suspect that these are the same numeric values as those in the \"loan_ID\" column, but I will make sure."
   ]
  },
  {
   "cell_type": "code",
   "execution_count": 54,
   "id": "444399c9",
   "metadata": {},
   "outputs": [
    {
     "data": {
      "text/plain": [
       "array(['48010226', '57693261', '59432726', ..., '50415990', '46154151', '66055249'], dtype='<U69')"
      ]
     },
     "execution_count": 54,
     "metadata": {},
     "output_type": "execute_result"
    }
   ],
   "source": [
    "loan_data_strings[:,5]"
   ]
  },
  {
   "cell_type": "code",
   "execution_count": 55,
   "id": "acfb90f3",
   "metadata": {},
   "outputs": [
    {
     "data": {
      "text/plain": [
       "array([48010226., 57693261., 59432726., ..., 50415990., 46154151., 66055249.])"
      ]
     },
     "execution_count": 55,
     "metadata": {},
     "output_type": "execute_result"
    }
   ],
   "source": [
    "loan_data_numeric[:,0]"
   ]
  },
  {
   "cell_type": "code",
   "execution_count": 56,
   "id": "1e7cf279",
   "metadata": {},
   "outputs": [
    {
     "data": {
      "text/plain": [
       "True"
      ]
     },
     "execution_count": 56,
     "metadata": {},
     "output_type": "execute_result"
    }
   ],
   "source": [
    "np.array_equal(loan_data_numeric[:,0].astype(dtype = np.int32), loan_data_strings[:,5].astype(dtype = np.int32))"
   ]
  },
  {
   "cell_type": "markdown",
   "id": "9c2574d0",
   "metadata": {},
   "source": [
    "#### Now that I know for certain that the info in the URL column is the same as the Loan ID, I can delete it."
   ]
  },
  {
   "cell_type": "code",
   "execution_count": 57,
   "id": "d3e4102d",
   "metadata": {},
   "outputs": [],
   "source": [
    "loan_data_strings = np.delete(loan_data_strings, 5, axis = 1)\n",
    "header_strings = np.delete(header_strings,5)"
   ]
  },
  {
   "cell_type": "code",
   "execution_count": 58,
   "id": "0966ddca",
   "metadata": {},
   "outputs": [
    {
     "data": {
      "text/plain": [
       "array(['CA', 'NY', 'PA', ..., 'CA', 'OH', 'IL'], dtype='<U69')"
      ]
     },
     "execution_count": 58,
     "metadata": {},
     "output_type": "execute_result"
    }
   ],
   "source": [
    "loan_data_strings[:, 5]"
   ]
  },
  {
   "cell_type": "code",
   "execution_count": 59,
   "id": "cf9690e5",
   "metadata": {},
   "outputs": [
    {
     "data": {
      "text/plain": [
       "array(['issue_date', 'loan_status', 'term_months', 'sub_grade', 'verification_status',\n",
       "       'addr_state'], dtype='<U19')"
      ]
     },
     "execution_count": 59,
     "metadata": {},
     "output_type": "execute_result"
    }
   ],
   "source": [
    "header_strings"
   ]
  },
  {
   "cell_type": "markdown",
   "id": "37cd4e52",
   "metadata": {},
   "source": [
    "### 7. Address State "
   ]
  },
  {
   "cell_type": "code",
   "execution_count": 60,
   "id": "4f39ce1b",
   "metadata": {},
   "outputs": [],
   "source": [
    "header_strings[5]= 'state_address'"
   ]
  },
  {
   "cell_type": "code",
   "execution_count": 61,
   "id": "7dee47a5",
   "metadata": {},
   "outputs": [
    {
     "data": {
      "text/plain": [
       "(array(['', 'AK', 'AL', 'AR', 'AZ', 'CA', 'CO', 'CT', 'DC', 'DE', 'FL', 'GA', 'HI', 'IL', 'IN',\n",
       "        'KS', 'KY', 'LA', 'MA', 'MD', 'ME', 'MI', 'MN', 'MO', 'MS', 'MT', 'NC', 'ND', 'NE', 'NH',\n",
       "        'NJ', 'NM', 'NV', 'NY', 'OH', 'OK', 'OR', 'PA', 'RI', 'SC', 'SD', 'TN', 'TX', 'UT', 'VA',\n",
       "        'VT', 'WA', 'WI', 'WV', 'WY'], dtype='<U69'),\n",
       " array([ 500,   26,  119,   74,  220, 1336,  201,  143,   27,   27,  690,  321,   44,  389,  152,\n",
       "          84,   84,  116,  210,  222,   10,  267,  156,  160,   61,   28,  261,   16,   25,   58,\n",
       "         341,   57,  130,  777,  312,   83,  108,  320,   40,  107,   24,  143,  758,   74,  242,\n",
       "          17,  216,  148,   49,   27]))"
      ]
     },
     "execution_count": 61,
     "metadata": {},
     "output_type": "execute_result"
    }
   ],
   "source": [
    "np.unique(loan_data_strings[:, 5], return_counts = True)"
   ]
  },
  {
   "cell_type": "code",
   "execution_count": 62,
   "id": "2d2a264e",
   "metadata": {},
   "outputs": [
    {
     "data": {
      "text/plain": [
       "(array(['CA', 'NY', 'TX', 'FL', '', 'IL', 'NJ', 'GA', 'PA', 'OH', 'MI', 'NC', 'VA', 'MD', 'AZ',\n",
       "        'WA', 'MA', 'CO', 'MO', 'MN', 'IN', 'WI', 'CT', 'TN', 'NV', 'AL', 'LA', 'OR', 'SC', 'KY',\n",
       "        'KS', 'OK', 'UT', 'AR', 'MS', 'NH', 'NM', 'WV', 'HI', 'RI', 'MT', 'DE', 'DC', 'WY', 'AK',\n",
       "        'NE', 'SD', 'VT', 'ND', 'ME'], dtype='<U69'),\n",
       " array([1336,  777,  758,  690,  500,  389,  341,  321,  320,  312,  267,  261,  242,  222,  220,\n",
       "         216,  210,  201,  160,  156,  152,  148,  143,  143,  130,  119,  116,  108,  107,   84,\n",
       "          84,   83,   74,   74,   61,   58,   57,   49,   44,   40,   28,   27,   27,   27,   26,\n",
       "          25,   24,   17,   16,   10]))"
      ]
     },
     "execution_count": 62,
     "metadata": {},
     "output_type": "execute_result"
    }
   ],
   "source": [
    "states_names, states_count = np.unique(loan_data_strings[:, 5], return_counts = True)\n",
    "states_count_sorted = np.argsort(-states_count)\n",
    "states_names[states_count_sorted], states_count[states_count_sorted]"
   ]
  },
  {
   "cell_type": "markdown",
   "id": "c8f0a8b4",
   "metadata": {},
   "source": [
    "#### After sorting the states by number of applicants, I can see that the category of \"Missing Data\" is in the 5th position with 500 applicants."
   ]
  },
  {
   "cell_type": "markdown",
   "id": "45c5cfed",
   "metadata": {},
   "source": [
    "#### As we can see, a large portion of the applicants have addresses in the first four states. If I divided the data by state, outliers would have a strong influence particularly on states that are less represented. Instead, I will divide them by region."
   ]
  },
  {
   "cell_type": "markdown",
   "id": "b5f22f43",
   "metadata": {},
   "source": [
    "#### First, I will label missing data in the column as \"0\", so it won't interfere with the analysis"
   ]
  },
  {
   "cell_type": "code",
   "execution_count": 63,
   "id": "cb6bb9e4",
   "metadata": {},
   "outputs": [],
   "source": [
    "loan_data_strings[:, 5] = np.where(loan_data_strings[:, 5] == '',\n",
    "                                   0,\n",
    "                                   loan_data_strings[:, 5])"
   ]
  },
  {
   "cell_type": "code",
   "execution_count": 64,
   "id": "7d1e539c",
   "metadata": {},
   "outputs": [],
   "source": [
    "states_west = np.array(['AZ', 'CO', 'MT', 'NM', 'NV', 'UT', 'WY', 'AK', 'CA', 'HI', 'OR', 'WA'])\n",
    "states_south = np.array(['AL','DC', 'DE', 'FL', 'GA', 'MD', 'NC', 'SC', 'VA', 'WV', 'KY', 'MS', 'TN', 'AR', 'LA', 'OK', 'TX'])\n",
    "states_midwest = np.array(['IN', 'IL', 'MI', 'OH','WI', 'KS', 'MN', 'MO', 'ND', 'NE', 'SD'])\n",
    "states_east = np.array(['CT', 'MA', 'ME', 'NH', 'RI', 'VT', 'NJ', 'NY', 'PA'])"
   ]
  },
  {
   "cell_type": "code",
   "execution_count": 65,
   "id": "2d09f1dc",
   "metadata": {},
   "outputs": [],
   "source": [
    "loan_data_strings[:, 5] = np.where(np.isin(loan_data_strings[:, 5], states_west), 1,loan_data_strings[:, 5])\n",
    "loan_data_strings[:, 5] = np.where(np.isin(loan_data_strings[:, 5], states_south), 2,loan_data_strings[:, 5])\n",
    "loan_data_strings[:, 5] = np.where(np.isin(loan_data_strings[:, 5], states_midwest), 3,loan_data_strings[:, 5])\n",
    "loan_data_strings[:, 5] = np.where(np.isin(loan_data_strings[:, 5], states_east), 4,loan_data_strings[:, 5])"
   ]
  },
  {
   "cell_type": "code",
   "execution_count": 66,
   "id": "cc227170",
   "metadata": {},
   "outputs": [
    {
     "data": {
      "text/plain": [
       "array(['0', '1', '2', '3', '4'], dtype='<U69')"
      ]
     },
     "execution_count": 66,
     "metadata": {},
     "output_type": "execute_result"
    }
   ],
   "source": [
    "np.unique(loan_data_strings[:, 5])"
   ]
  },
  {
   "cell_type": "markdown",
   "id": "ed2a8a92",
   "metadata": {},
   "source": [
    "#### Now each reqion has a corresponding numeric value."
   ]
  },
  {
   "cell_type": "markdown",
   "id": "f7b4c1f4",
   "metadata": {},
   "source": [
    "### Converting to Integers"
   ]
  },
  {
   "cell_type": "code",
   "execution_count": 67,
   "id": "7b7cdbe7",
   "metadata": {},
   "outputs": [
    {
     "data": {
      "text/plain": [
       "array([['5', '1', '36', '13', '1', '1'],\n",
       "       ['0', '1', '36', '5', '1', '4'],\n",
       "       ['9', '1', '36', '10', '1', '4'],\n",
       "       ...,\n",
       "       ['6', '1', '36', '5', '1', '1'],\n",
       "       ['4', '1', '36', '17', '1', '3'],\n",
       "       ['12', '1', '36', '4', '0', '3']], dtype='<U69')"
      ]
     },
     "execution_count": 67,
     "metadata": {},
     "output_type": "execute_result"
    }
   ],
   "source": [
    "loan_data_strings"
   ]
  },
  {
   "cell_type": "code",
   "execution_count": 69,
   "id": "fc054398",
   "metadata": {},
   "outputs": [],
   "source": [
    "loan_data_strings = loan_data_strings.astype(int)"
   ]
  },
  {
   "cell_type": "code",
   "execution_count": 70,
   "id": "7529e957",
   "metadata": {},
   "outputs": [
    {
     "data": {
      "text/plain": [
       "array([[ 5,  1, 36, 13,  1,  1],\n",
       "       [ 0,  1, 36,  5,  1,  4],\n",
       "       [ 9,  1, 36, 10,  1,  4],\n",
       "       ...,\n",
       "       [ 6,  1, 36,  5,  1,  1],\n",
       "       [ 4,  1, 36, 17,  1,  3],\n",
       "       [12,  1, 36,  4,  0,  3]])"
      ]
     },
     "execution_count": 70,
     "metadata": {},
     "output_type": "execute_result"
    }
   ],
   "source": [
    "loan_data_strings"
   ]
  },
  {
   "cell_type": "markdown",
   "id": "b03a1b81",
   "metadata": {},
   "source": [
    "## Manipulating Numeric Columns"
   ]
  },
  {
   "cell_type": "code",
   "execution_count": 71,
   "id": "8c451e11",
   "metadata": {},
   "outputs": [
    {
     "data": {
      "text/plain": [
       "array([[48010226.  ,    35000.  ,    35000.  ,       13.33,     1184.86,     9452.96],\n",
       "       [57693261.  ,    30000.  ,    30000.  , 68616520.  ,      938.57,     4679.7 ],\n",
       "       [59432726.  ,    15000.  ,    15000.  , 68616520.  ,      494.86,     1969.83],\n",
       "       ...,\n",
       "       [50415990.  ,    10000.  ,    10000.  , 68616520.  , 68616520.  ,     2185.64],\n",
       "       [46154151.  , 68616520.  ,    10000.  ,       16.55,      354.3 ,     3199.4 ],\n",
       "       [66055249.  ,    10000.  ,    10000.  , 68616520.  ,      309.97,      301.9 ]])"
      ]
     },
     "execution_count": 71,
     "metadata": {},
     "output_type": "execute_result"
    }
   ],
   "source": [
    "loan_data_numeric"
   ]
  },
  {
   "cell_type": "code",
   "execution_count": 72,
   "id": "36eca3cb",
   "metadata": {},
   "outputs": [
    {
     "data": {
      "text/plain": [
       "0"
      ]
     },
     "execution_count": 72,
     "metadata": {},
     "output_type": "execute_result"
    }
   ],
   "source": [
    "np.isnan(loan_data_numeric).sum()"
   ]
  },
  {
   "cell_type": "markdown",
   "id": "a810feb5",
   "metadata": {},
   "source": [
    "#### I can see that there are no longer any 'Nan' values."
   ]
  },
  {
   "cell_type": "markdown",
   "id": "96e86f79",
   "metadata": {},
   "source": [
    "### 8. ID"
   ]
  },
  {
   "cell_type": "code",
   "execution_count": 73,
   "id": "121d67a0",
   "metadata": {},
   "outputs": [
    {
     "data": {
      "text/plain": [
       "array(['id', 'loan_amnt', 'funded_amnt', 'int_rate', 'installment', 'total_pymnt'], dtype='<U19')"
      ]
     },
     "execution_count": 73,
     "metadata": {},
     "output_type": "execute_result"
    }
   ],
   "source": [
    "header_numeric"
   ]
  },
  {
   "cell_type": "code",
   "execution_count": 74,
   "id": "af02f46f",
   "metadata": {},
   "outputs": [
    {
     "data": {
      "text/plain": [
       "68616520.0"
      ]
     },
     "execution_count": 74,
     "metadata": {},
     "output_type": "execute_result"
    }
   ],
   "source": [
    "temporary_fill"
   ]
  },
  {
   "cell_type": "markdown",
   "id": "09e48205",
   "metadata": {},
   "source": [
    "#### I will first see if the filler value was used in the ID column"
   ]
  },
  {
   "cell_type": "code",
   "execution_count": 75,
   "id": "015d08c0",
   "metadata": {},
   "outputs": [
    {
     "data": {
      "text/plain": [
       "0"
      ]
     },
     "execution_count": 75,
     "metadata": {},
     "output_type": "execute_result"
    }
   ],
   "source": [
    "np.isin(loan_data_numeric[:,0], temporary_fill).sum()"
   ]
  },
  {
   "cell_type": "code",
   "execution_count": 76,
   "id": "af01c9a2",
   "metadata": {},
   "outputs": [
    {
     "data": {
      "text/plain": [
       "array(['id', 'loan_amnt', 'funded_amnt', 'int_rate', 'installment', 'total_pymnt'], dtype='<U19')"
      ]
     },
     "execution_count": 76,
     "metadata": {},
     "output_type": "execute_result"
    }
   ],
   "source": [
    "header_numeric"
   ]
  },
  {
   "cell_type": "markdown",
   "id": "22d9ca08",
   "metadata": {},
   "source": [
    "#### For all of these categories the \"worst\" value is the max, except for \"funded-amt' where it is the minimum. This will help guide how I fill in the missing data."
   ]
  },
  {
   "cell_type": "markdown",
   "id": "e15bb488",
   "metadata": {},
   "source": [
    "### Temporary Stats"
   ]
  },
  {
   "cell_type": "code",
   "execution_count": 77,
   "id": "3913b4ab",
   "metadata": {},
   "outputs": [
    {
     "data": {
      "text/plain": [
       "array([[  373332.  ,     1000.  ,     1000.  ,        6.  ,       31.42,        0.  ],\n",
       "       [54015809.19,    15273.46,    15311.04,       16.62,      440.92,     3143.85],\n",
       "       [68616519.  ,    35000.  ,    35000.  ,       28.99,     1372.97,    41913.62]])"
      ]
     },
     "execution_count": 77,
     "metadata": {},
     "output_type": "execute_result"
    }
   ],
   "source": [
    "temporary_stats[:, columns_numeric]"
   ]
  },
  {
   "cell_type": "markdown",
   "id": "d32f025b",
   "metadata": {},
   "source": [
    "### 9. Funded Amount"
   ]
  },
  {
   "cell_type": "code",
   "execution_count": 78,
   "id": "39005124",
   "metadata": {},
   "outputs": [
    {
     "data": {
      "text/plain": [
       "array([35000., 30000., 15000., ..., 10000., 10000., 10000.])"
      ]
     },
     "execution_count": 78,
     "metadata": {},
     "output_type": "execute_result"
    }
   ],
   "source": [
    "loan_data_numeric[:,2]"
   ]
  },
  {
   "cell_type": "code",
   "execution_count": 79,
   "id": "d5c3fba8",
   "metadata": {},
   "outputs": [
    {
     "data": {
      "text/plain": [
       "array([35000., 30000., 15000., ..., 10000., 10000., 10000.])"
      ]
     },
     "execution_count": 79,
     "metadata": {},
     "output_type": "execute_result"
    }
   ],
   "source": [
    "loan_data_numeric[:,2] = np.where(loan_data_numeric[:,2] == temporary_fill,\n",
    "temporary_stats[0, columns_numeric[2]],\n",
    "loan_data_numeric[:,2])\n",
    "\n",
    "loan_data_numeric[:,2]"
   ]
  },
  {
   "cell_type": "markdown",
   "id": "618376d9",
   "metadata": {},
   "source": [
    "### 10. Loaned Amount, Interest Rate, Total Payment, & Installment"
   ]
  },
  {
   "cell_type": "markdown",
   "id": "68b73cc7",
   "metadata": {},
   "source": [
    "#### Because credit analysis is risk averse, in these categories, the max value in the column will be used to fill in the missing values."
   ]
  },
  {
   "cell_type": "code",
   "execution_count": 80,
   "id": "99a3bfb0",
   "metadata": {},
   "outputs": [
    {
     "data": {
      "text/plain": [
       "array(['id', 'loan_amnt', 'funded_amnt', 'int_rate', 'installment', 'total_pymnt'], dtype='<U19')"
      ]
     },
     "execution_count": 80,
     "metadata": {},
     "output_type": "execute_result"
    }
   ],
   "source": [
    "header_numeric"
   ]
  },
  {
   "cell_type": "code",
   "execution_count": 81,
   "id": "c1105758",
   "metadata": {},
   "outputs": [],
   "source": [
    "for i in [1,3,4,5]:\n",
    "  loan_data_numeric[:, 1] = np.where(loan_data_numeric[:, i] == temporary_fill,\n",
    "temporary_stats[2, columns_numeric[i]],\n",
    "loan_data_numeric[:,i])"
   ]
  },
  {
   "cell_type": "code",
   "execution_count": 82,
   "id": "d5788714",
   "metadata": {},
   "outputs": [
    {
     "data": {
      "text/plain": [
       "array([[48010226.  ,     9452.96,    35000.  ,       13.33,     1184.86,     9452.96],\n",
       "       [57693261.  ,     4679.7 ,    30000.  , 68616520.  ,      938.57,     4679.7 ],\n",
       "       [59432726.  ,     1969.83,    15000.  , 68616520.  ,      494.86,     1969.83],\n",
       "       ...,\n",
       "       [50415990.  ,     2185.64,    10000.  , 68616520.  , 68616520.  ,     2185.64],\n",
       "       [46154151.  ,     3199.4 ,    10000.  ,       16.55,      354.3 ,     3199.4 ],\n",
       "       [66055249.  ,      301.9 ,    10000.  , 68616520.  ,      309.97,      301.9 ]])"
      ]
     },
     "execution_count": 82,
     "metadata": {},
     "output_type": "execute_result"
    }
   ],
   "source": [
    "loan_data_numeric"
   ]
  },
  {
   "cell_type": "markdown",
   "id": "f2d14ff8",
   "metadata": {},
   "source": [
    "### 11. Currency Conversion"
   ]
  },
  {
   "cell_type": "markdown",
   "id": "e1e07ea6",
   "metadata": {},
   "source": [
    "#### This data came from the US office to the main European bank. Therefore, the amounts that are in USD need to be converted to EUR."
   ]
  },
  {
   "cell_type": "code",
   "execution_count": 83,
   "id": "abd1b286",
   "metadata": {},
   "outputs": [
    {
     "data": {
      "text/plain": [
       "array([1.13, 1.12, 1.08, 1.11, 1.1 , 1.12, 1.09, 1.13, 1.13, 1.1 , 1.06, 1.09])"
      ]
     },
     "execution_count": 83,
     "metadata": {},
     "output_type": "execute_result"
    }
   ],
   "source": [
    "#Dataset of Monthly Exchange Rates for 2015\n",
    "EUR_USD = np.genfromtxt('EUR-USD.csv', delimiter= ',', autostrip = True, skip_header= 1, usecols = 3)\n",
    "EUR_USD"
   ]
  },
  {
   "cell_type": "markdown",
   "id": "0410e509",
   "metadata": {},
   "source": [
    "#### Now, I will add a column for the monthly exchange rate"
   ]
  },
  {
   "cell_type": "code",
   "execution_count": 84,
   "id": "7f127928",
   "metadata": {},
   "outputs": [
    {
     "data": {
      "text/plain": [
       "array([ 5,  0,  9, ...,  6,  4, 12])"
      ]
     },
     "execution_count": 84,
     "metadata": {},
     "output_type": "execute_result"
    }
   ],
   "source": [
    "loan_data_strings[:,0]"
   ]
  },
  {
   "cell_type": "code",
   "execution_count": 85,
   "id": "69fafd48",
   "metadata": {},
   "outputs": [],
   "source": [
    "exchange_rate = loan_data_strings[:,0]\n",
    "\n",
    "for i in range(1,13):\n",
    "  exchange_rate = np.where(exchange_rate == i,\n",
    "                           EUR_USD[i-1],\n",
    "                           exchange_rate)\n",
    "\n",
    "  exchange_rate = np.where(exchange_rate == 0,\n",
    "                           np.mean(EUR_USD),\n",
    "                           exchange_rate)\n",
    "  exchange_rate"
   ]
  },
  {
   "cell_type": "code",
   "execution_count": 86,
   "id": "de7c212a",
   "metadata": {},
   "outputs": [
    {
     "data": {
      "text/plain": [
       "array([1.1 , 1.11, 1.13, ..., 1.12, 1.11, 1.09])"
      ]
     },
     "execution_count": 86,
     "metadata": {},
     "output_type": "execute_result"
    }
   ],
   "source": [
    "exchange_rate"
   ]
  },
  {
   "cell_type": "code",
   "execution_count": 87,
   "id": "8fdd400c",
   "metadata": {},
   "outputs": [
    {
     "data": {
      "text/plain": [
       "(10000,)"
      ]
     },
     "execution_count": 87,
     "metadata": {},
     "output_type": "execute_result"
    }
   ],
   "source": [
    "exchange_rate.shape"
   ]
  },
  {
   "cell_type": "code",
   "execution_count": 88,
   "id": "bdab1663",
   "metadata": {},
   "outputs": [
    {
     "data": {
      "text/plain": [
       "(10000, 6)"
      ]
     },
     "execution_count": 88,
     "metadata": {},
     "output_type": "execute_result"
    }
   ],
   "source": [
    "loan_data_numeric.shape"
   ]
  },
  {
   "cell_type": "code",
   "execution_count": 89,
   "id": "fd4002ee",
   "metadata": {},
   "outputs": [],
   "source": [
    "exchange_rate = np.reshape(exchange_rate, (10000,1))"
   ]
  },
  {
   "cell_type": "code",
   "execution_count": 90,
   "id": "1a002ad1",
   "metadata": {},
   "outputs": [],
   "source": [
    "loan_data_numeric = np.hstack((loan_data_numeric, exchange_rate))"
   ]
  },
  {
   "cell_type": "code",
   "execution_count": 91,
   "id": "ac0984ab",
   "metadata": {},
   "outputs": [
    {
     "data": {
      "text/plain": [
       "array(['id', 'loan_amnt', 'funded_amnt', 'int_rate', 'installment', 'total_pymnt', 'exchange_rate'],\n",
       "      dtype='<U19')"
      ]
     },
     "execution_count": 91,
     "metadata": {},
     "output_type": "execute_result"
    }
   ],
   "source": [
    "header_numeric = np.concatenate((header_numeric, np.array(['exchange_rate'])))\n",
    "header_numeric"
   ]
  },
  {
   "cell_type": "markdown",
   "id": "c4af0db9",
   "metadata": {},
   "source": [
    "#### USD to EUR"
   ]
  },
  {
   "cell_type": "code",
   "execution_count": 92,
   "id": "a332cf2c",
   "metadata": {},
   "outputs": [],
   "source": [
    "columns_dollar = np.array([1,2,4,5])"
   ]
  },
  {
   "cell_type": "code",
   "execution_count": 93,
   "id": "4f53aba2",
   "metadata": {},
   "outputs": [
    {
     "data": {
      "text/plain": [
       "array([1.1 , 1.11, 1.13, ..., 1.12, 1.11, 1.09])"
      ]
     },
     "execution_count": 93,
     "metadata": {},
     "output_type": "execute_result"
    }
   ],
   "source": [
    "loan_data_numeric[:, 6]"
   ]
  },
  {
   "cell_type": "markdown",
   "id": "8e1ec440",
   "metadata": {},
   "source": [
    "#### I will now use a for loop to divide all of the USD values in the specified columns by the exchange rate column in order to provide a EUR value."
   ]
  },
  {
   "cell_type": "code",
   "execution_count": 94,
   "id": "717cdfd7",
   "metadata": {},
   "outputs": [],
   "source": [
    "for i in columns_dollar:\n",
    "  loan_data_numeric = np.hstack((loan_data_numeric,\n",
    "                                np.reshape(loan_data_numeric[:, i]/loan_data_numeric[:,6], (10000,1))))"
   ]
  },
  {
   "cell_type": "code",
   "execution_count": 95,
   "id": "80bb036b",
   "metadata": {},
   "outputs": [
    {
     "data": {
      "text/plain": [
       "(10000, 11)"
      ]
     },
     "execution_count": 95,
     "metadata": {},
     "output_type": "execute_result"
    }
   ],
   "source": [
    "loan_data_numeric.shape"
   ]
  },
  {
   "cell_type": "markdown",
   "id": "114ae665",
   "metadata": {},
   "source": [
    "#### Expanding the header"
   ]
  },
  {
   "cell_type": "markdown",
   "id": "590addc6",
   "metadata": {},
   "source": [
    "#### I will add more information in the headers to clearly indicate the currency of the column."
   ]
  },
  {
   "cell_type": "code",
   "execution_count": 96,
   "id": "535198a8",
   "metadata": {},
   "outputs": [],
   "source": [
    "header_additional = np.array([column_name + \"_EUR\" for column_name in header_numeric[columns_dollar]])"
   ]
  },
  {
   "cell_type": "code",
   "execution_count": 97,
   "id": "cc7d27de",
   "metadata": {},
   "outputs": [
    {
     "data": {
      "text/plain": [
       "array(['loan_amnt_EUR', 'funded_amnt_EUR', 'installment_EUR', 'total_pymnt_EUR'], dtype='<U15')"
      ]
     },
     "execution_count": 97,
     "metadata": {},
     "output_type": "execute_result"
    }
   ],
   "source": [
    "header_additional"
   ]
  },
  {
   "cell_type": "code",
   "execution_count": 98,
   "id": "c1e26f45",
   "metadata": {},
   "outputs": [],
   "source": [
    "header_numeric = np.concatenate((header_numeric, header_additional))"
   ]
  },
  {
   "cell_type": "code",
   "execution_count": 99,
   "id": "e0ceadd7",
   "metadata": {},
   "outputs": [
    {
     "data": {
      "text/plain": [
       "array(['id', 'loan_amnt', 'funded_amnt', 'int_rate', 'installment', 'total_pymnt', 'exchange_rate',\n",
       "       'loan_amnt_EUR', 'funded_amnt_EUR', 'installment_EUR', 'total_pymnt_EUR'], dtype='<U19')"
      ]
     },
     "execution_count": 99,
     "metadata": {},
     "output_type": "execute_result"
    }
   ],
   "source": [
    "header_numeric"
   ]
  },
  {
   "cell_type": "code",
   "execution_count": 100,
   "id": "6f92d1a8",
   "metadata": {},
   "outputs": [],
   "source": [
    "header_numeric[columns_dollar] = np.array([column_name + \"_USD\" for column_name in header_numeric[columns_dollar]])"
   ]
  },
  {
   "cell_type": "code",
   "execution_count": 101,
   "id": "d71da855",
   "metadata": {},
   "outputs": [
    {
     "data": {
      "text/plain": [
       "array(['id', 'loan_amnt_USD', 'funded_amnt_USD', 'int_rate', 'installment_USD', 'total_pymnt_USD',\n",
       "       'exchange_rate', 'loan_amnt_EUR', 'funded_amnt_EUR', 'installment_EUR', 'total_pymnt_EUR'],\n",
       "      dtype='<U19')"
      ]
     },
     "execution_count": 101,
     "metadata": {},
     "output_type": "execute_result"
    }
   ],
   "source": [
    "header_numeric"
   ]
  },
  {
   "cell_type": "code",
   "execution_count": 102,
   "id": "906593da",
   "metadata": {},
   "outputs": [],
   "source": [
    "columns_index_order = [0,1,7,2,8,3,4,9,5,10,6]"
   ]
  },
  {
   "cell_type": "code",
   "execution_count": 103,
   "id": "58c6eebe",
   "metadata": {},
   "outputs": [],
   "source": [
    "header_numeric = header_numeric[columns_index_order]"
   ]
  },
  {
   "cell_type": "code",
   "execution_count": 104,
   "id": "1c0ee163",
   "metadata": {},
   "outputs": [],
   "source": [
    "loan_data_numeric = loan_data_numeric[:, columns_index_order]"
   ]
  },
  {
   "cell_type": "markdown",
   "id": "b951cae9",
   "metadata": {},
   "source": [
    "## Creating the Complete Dataset"
   ]
  },
  {
   "cell_type": "code",
   "execution_count": 105,
   "id": "243086bb",
   "metadata": {},
   "outputs": [
    {
     "data": {
      "text/plain": [
       "(10000, 6)"
      ]
     },
     "execution_count": 105,
     "metadata": {},
     "output_type": "execute_result"
    }
   ],
   "source": [
    "loan_data_strings.shape"
   ]
  },
  {
   "cell_type": "code",
   "execution_count": 106,
   "id": "7f67a359",
   "metadata": {},
   "outputs": [
    {
     "data": {
      "text/plain": [
       "(10000, 11)"
      ]
     },
     "execution_count": 106,
     "metadata": {},
     "output_type": "execute_result"
    }
   ],
   "source": [
    "loan_data_numeric.shape"
   ]
  },
  {
   "cell_type": "code",
   "execution_count": 107,
   "id": "0209524c",
   "metadata": {},
   "outputs": [],
   "source": [
    "loan_data = np.hstack((loan_data_numeric, loan_data_strings))"
   ]
  },
  {
   "cell_type": "code",
   "execution_count": 108,
   "id": "61dea691",
   "metadata": {},
   "outputs": [
    {
     "data": {
      "text/plain": [
       "0"
      ]
     },
     "execution_count": 108,
     "metadata": {},
     "output_type": "execute_result"
    }
   ],
   "source": [
    "np.isnan(loan_data).sum()"
   ]
  },
  {
   "cell_type": "code",
   "execution_count": 109,
   "id": "8f8857e1",
   "metadata": {},
   "outputs": [],
   "source": [
    "header_full = np.concatenate((header_numeric, header_strings))"
   ]
  },
  {
   "cell_type": "markdown",
   "id": "668e7a2a",
   "metadata": {},
   "source": [
    "#### Sorting the new dataset"
   ]
  },
  {
   "cell_type": "code",
   "execution_count": 110,
   "id": "c41d176c",
   "metadata": {},
   "outputs": [],
   "source": [
    "loan_data = loan_data[np.argsort(loan_data[:,0])]"
   ]
  },
  {
   "cell_type": "code",
   "execution_count": 111,
   "id": "208d4296",
   "metadata": {},
   "outputs": [],
   "source": [
    "loan_data = np.vstack((header_full, loan_data))"
   ]
  },
  {
   "cell_type": "code",
   "execution_count": 112,
   "id": "47e37655",
   "metadata": {},
   "outputs": [],
   "source": [
    "np.savetxt('preprocessed_loan_data.csv',\n",
    "           loan_data, fmt = '%s')"
   ]
  },
  {
   "cell_type": "markdown",
   "id": "a86f5a9a",
   "metadata": {},
   "source": [
    "#### Now, the dataset is ready for a model to predict probability of default. The text values have been changed to numeric values, monetary values from USD to EUR were calculated using daily exchange rate values, and principles of credit risk analysis guided decisions around categorizing applicants."
   ]
  }
 ],
 "metadata": {
  "kernelspec": {
   "display_name": "Python 3 (ipykernel)",
   "language": "python",
   "name": "python3"
  },
  "language_info": {
   "codemirror_mode": {
    "name": "ipython",
    "version": 3
   },
   "file_extension": ".py",
   "mimetype": "text/x-python",
   "name": "python",
   "nbconvert_exporter": "python",
   "pygments_lexer": "ipython3",
   "version": "3.9.18"
  }
 },
 "nbformat": 4,
 "nbformat_minor": 5
}
