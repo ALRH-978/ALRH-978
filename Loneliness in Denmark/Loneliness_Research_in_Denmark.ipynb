{
  "nbformat": 4,
  "nbformat_minor": 0,
  "metadata": {
    "colab": {
      "provenance": []
    },
    "kernelspec": {
      "name": "python3",
      "display_name": "Python 3"
    },
    "language_info": {
      "name": "python"
    }
  },
  "cells": [
    {
      "cell_type": "markdown",
      "source": [
        "ReDI School of Digital Integration Copenhagen is a non-profit that provides a variety of tech courses. The Digital Beginners program provides basic computer skills to female immigrants and refugees. A reported effect by students has been a decrease in lonliness.\n",
        "\n",
        "\n",
        "When measuring the impact of the program, we will first examine data from Den Nationale Sundhedsprofil 2021 to understand the impact of lonliness on subsets of the Danish population."
      ],
      "metadata": {
        "id": "AgDKh4a-r_GC"
      }
    },
    {
      "cell_type": "code",
      "execution_count": null,
      "metadata": {
        "id": "Taf2xwxtLM7H"
      },
      "outputs": [],
      "source": [
        "import pandas as pd\n",
        "import numpy as np\n",
        "import matplotlib.pyplot as plt\n"
      ]
    },
    {
      "cell_type": "markdown",
      "source": [
        "The data from Den Nationale Sundhedsprofil 2021 was recorded and then made into dataframes in pandas. I focused on three factors - location, age group, and job status. I focused on the target population of ReDI school students as a guide through these various factors."
      ],
      "metadata": {
        "id": "qEia32oXs2sK"
      }
    },
    {
      "cell_type": "code",
      "source": [
        "Year = [2010, 2013, 2017, 2021]\n",
        "Percentage = [6.2,6.6, 6.6, 10]\n",
        "\n",
        "cph_df= list(zip(Year, Percentage))\n",
        "cph_df"
      ],
      "metadata": {
        "colab": {
          "base_uri": "https://localhost:8080/"
        },
        "id": "VPcI8ypkLRoH",
        "outputId": "45d8412f-6dbd-49b2-c579-8fff1ef29cfa"
      },
      "execution_count": null,
      "outputs": [
        {
          "output_type": "execute_result",
          "data": {
            "text/plain": [
              "[(2010, 6.2), (2013, 6.6), (2017, 6.6), (2021, 10)]"
            ]
          },
          "metadata": {},
          "execution_count": 1
        }
      ]
    },
    {
      "cell_type": "code",
      "source": [
        "df_cph = pd.DataFrame(cph_df, columns = ['Year', 'Percentage'])\n",
        "df_cph"
      ],
      "metadata": {
        "colab": {
          "base_uri": "https://localhost:8080/",
          "height": 174
        },
        "id": "zn9PONV7MwV8",
        "outputId": "f6fe42cd-1ce9-4697-f446-4bed7449873f"
      },
      "execution_count": null,
      "outputs": [
        {
          "output_type": "execute_result",
          "data": {
            "text/plain": [
              "   Year  Percentage\n",
              "0  2010         6.2\n",
              "1  2013         6.6\n",
              "2  2017         6.6\n",
              "3  2021        10.0"
            ],
            "text/html": [
              "\n",
              "  <div id=\"df-1e0fee8e-cf3e-4796-9fc0-7543bd1f9222\" class=\"colab-df-container\">\n",
              "    <div>\n",
              "<style scoped>\n",
              "    .dataframe tbody tr th:only-of-type {\n",
              "        vertical-align: middle;\n",
              "    }\n",
              "\n",
              "    .dataframe tbody tr th {\n",
              "        vertical-align: top;\n",
              "    }\n",
              "\n",
              "    .dataframe thead th {\n",
              "        text-align: right;\n",
              "    }\n",
              "</style>\n",
              "<table border=\"1\" class=\"dataframe\">\n",
              "  <thead>\n",
              "    <tr style=\"text-align: right;\">\n",
              "      <th></th>\n",
              "      <th>Year</th>\n",
              "      <th>Percentage</th>\n",
              "    </tr>\n",
              "  </thead>\n",
              "  <tbody>\n",
              "    <tr>\n",
              "      <th>0</th>\n",
              "      <td>2010</td>\n",
              "      <td>6.2</td>\n",
              "    </tr>\n",
              "    <tr>\n",
              "      <th>1</th>\n",
              "      <td>2013</td>\n",
              "      <td>6.6</td>\n",
              "    </tr>\n",
              "    <tr>\n",
              "      <th>2</th>\n",
              "      <td>2017</td>\n",
              "      <td>6.6</td>\n",
              "    </tr>\n",
              "    <tr>\n",
              "      <th>3</th>\n",
              "      <td>2021</td>\n",
              "      <td>10.0</td>\n",
              "    </tr>\n",
              "  </tbody>\n",
              "</table>\n",
              "</div>\n",
              "    <div class=\"colab-df-buttons\">\n",
              "\n",
              "  <div class=\"colab-df-container\">\n",
              "    <button class=\"colab-df-convert\" onclick=\"convertToInteractive('df-1e0fee8e-cf3e-4796-9fc0-7543bd1f9222')\"\n",
              "            title=\"Convert this dataframe to an interactive table.\"\n",
              "            style=\"display:none;\">\n",
              "\n",
              "  <svg xmlns=\"http://www.w3.org/2000/svg\" height=\"24px\" viewBox=\"0 -960 960 960\">\n",
              "    <path d=\"M120-120v-720h720v720H120Zm60-500h600v-160H180v160Zm220 220h160v-160H400v160Zm0 220h160v-160H400v160ZM180-400h160v-160H180v160Zm440 0h160v-160H620v160ZM180-180h160v-160H180v160Zm440 0h160v-160H620v160Z\"/>\n",
              "  </svg>\n",
              "    </button>\n",
              "\n",
              "  <style>\n",
              "    .colab-df-container {\n",
              "      display:flex;\n",
              "      gap: 12px;\n",
              "    }\n",
              "\n",
              "    .colab-df-convert {\n",
              "      background-color: #E8F0FE;\n",
              "      border: none;\n",
              "      border-radius: 50%;\n",
              "      cursor: pointer;\n",
              "      display: none;\n",
              "      fill: #1967D2;\n",
              "      height: 32px;\n",
              "      padding: 0 0 0 0;\n",
              "      width: 32px;\n",
              "    }\n",
              "\n",
              "    .colab-df-convert:hover {\n",
              "      background-color: #E2EBFA;\n",
              "      box-shadow: 0px 1px 2px rgba(60, 64, 67, 0.3), 0px 1px 3px 1px rgba(60, 64, 67, 0.15);\n",
              "      fill: #174EA6;\n",
              "    }\n",
              "\n",
              "    .colab-df-buttons div {\n",
              "      margin-bottom: 4px;\n",
              "    }\n",
              "\n",
              "    [theme=dark] .colab-df-convert {\n",
              "      background-color: #3B4455;\n",
              "      fill: #D2E3FC;\n",
              "    }\n",
              "\n",
              "    [theme=dark] .colab-df-convert:hover {\n",
              "      background-color: #434B5C;\n",
              "      box-shadow: 0px 1px 3px 1px rgba(0, 0, 0, 0.15);\n",
              "      filter: drop-shadow(0px 1px 2px rgba(0, 0, 0, 0.3));\n",
              "      fill: #FFFFFF;\n",
              "    }\n",
              "  </style>\n",
              "\n",
              "    <script>\n",
              "      const buttonEl =\n",
              "        document.querySelector('#df-1e0fee8e-cf3e-4796-9fc0-7543bd1f9222 button.colab-df-convert');\n",
              "      buttonEl.style.display =\n",
              "        google.colab.kernel.accessAllowed ? 'block' : 'none';\n",
              "\n",
              "      async function convertToInteractive(key) {\n",
              "        const element = document.querySelector('#df-1e0fee8e-cf3e-4796-9fc0-7543bd1f9222');\n",
              "        const dataTable =\n",
              "          await google.colab.kernel.invokeFunction('convertToInteractive',\n",
              "                                                    [key], {});\n",
              "        if (!dataTable) return;\n",
              "\n",
              "        const docLinkHtml = 'Like what you see? Visit the ' +\n",
              "          '<a target=\"_blank\" href=https://colab.research.google.com/notebooks/data_table.ipynb>data table notebook</a>'\n",
              "          + ' to learn more about interactive tables.';\n",
              "        element.innerHTML = '';\n",
              "        dataTable['output_type'] = 'display_data';\n",
              "        await google.colab.output.renderOutput(dataTable, element);\n",
              "        const docLink = document.createElement('div');\n",
              "        docLink.innerHTML = docLinkHtml;\n",
              "        element.appendChild(docLink);\n",
              "      }\n",
              "    </script>\n",
              "  </div>\n",
              "\n",
              "    </div>\n",
              "  </div>\n"
            ]
          },
          "metadata": {},
          "execution_count": 3
        }
      ]
    },
    {
      "cell_type": "code",
      "source": [
        "fig = plt.figure(figsize = (6,3), facecolor = 'none')\n",
        "ax = plt.axes()\n",
        "plt.bar (range(len(Year)), Percentage, color = '#99C29E'  , width = 0.5)\n",
        "plt.xlabel('År')\n",
        "plt.ylabel('Procentdel')\n",
        "plt.title('Andel i København der ofte er uønsket alene')\n",
        "ax.set_xticks(range(len(Year)))\n",
        "ax.set_xticklabels(Year)\n",
        "\n",
        "\n",
        "plt.savefig(\"trial_kbh.png\", transparent = True)\n",
        "plt.show()\n"
      ],
      "metadata": {
        "colab": {
          "base_uri": "https://localhost:8080/",
          "height": 333
        },
        "id": "XPb6mD-mNaKT",
        "outputId": "94da384d-dd07-43d6-a7e6-112a3fa90812"
      },
      "execution_count": null,
      "outputs": [
        {
          "output_type": "display_data",
          "data": {
            "text/plain": [
              "<Figure size 600x300 with 1 Axes>"
            ],
            "image/png": "[encoded data removed]"
          },
          "metadata": {
            "needs_background": "light"
          }
        }
      ]
    },
    {
      "cell_type": "markdown",
      "source": [
        "Here we can see that the percent of residents in Copenhagen who report \"I am OFTEN alone when I don't want to be\" is increasing."
      ],
      "metadata": {
        "id": "v44M8Xnht3J-"
      }
    },
    {
      "cell_type": "code",
      "source": [
        "cph_women = {\n",
        "    '2010': pd.Series([5.7, 4.5, 5.3, 5.2], index = ['25 - 34 år', '35 - 44 år', '45 - 54 år', '55 - 64år']),\n",
        "    '2013': pd.Series([4.9, 4.1, 4.7, 4.2], index = ['25 - 34 år', '35 - 44 år', '45 - 54 år', '55 - 64år']),\n",
        "    '2017': pd.Series([6.9, 5.7, 4.7, 5.6], index = ['25 - 34 år', '35 - 44 år', '45 - 54 år', '55 - 64år']),\n",
        "    '2021': pd.Series([10.5, 8.2, 6.7, 7.8], index = ['25 - 34 år', '35 - 44 år', '45 - 54 år', '55 - 64år'])}\n",
        "\n",
        "df = pd.DataFrame(cph_women, columns=['2010', '2013', '2017', '2021'])\n",
        "df.index.name = 'Ældersgruppe'\n",
        "df.columns.name = 'År'\n",
        "df"
      ],
      "metadata": {
        "colab": {
          "base_uri": "https://localhost:8080/",
          "height": 206
        },
        "id": "I1L3L5ktPFef",
        "outputId": "2f2990f1-a225-4c71-d77d-5e40b9600718"
      },
      "execution_count": null,
      "outputs": [
        {
          "output_type": "execute_result",
          "data": {
            "text/plain": [
              "År            2010  2013  2017  2021\n",
              "Ældersgruppe                        \n",
              "25 - 34 år     5.7   4.9   6.9  10.5\n",
              "35 - 44 år     4.5   4.1   5.7   8.2\n",
              "45 - 54 år     5.3   4.7   4.7   6.7\n",
              "55 - 64år      5.2   4.2   5.6   7.8"
            ],
            "text/html": [
              "\n",
              "  <div id=\"df-bc9a84b4-1069-42d1-b06a-2a9f9a83a863\" class=\"colab-df-container\">\n",
              "    <div>\n",
              "<style scoped>\n",
              "    .dataframe tbody tr th:only-of-type {\n",
              "        vertical-align: middle;\n",
              "    }\n",
              "\n",
              "    .dataframe tbody tr th {\n",
              "        vertical-align: top;\n",
              "    }\n",
              "\n",
              "    .dataframe thead th {\n",
              "        text-align: right;\n",
              "    }\n",
              "</style>\n",
              "<table border=\"1\" class=\"dataframe\">\n",
              "  <thead>\n",
              "    <tr style=\"text-align: right;\">\n",
              "      <th>År</th>\n",
              "      <th>2010</th>\n",
              "      <th>2013</th>\n",
              "      <th>2017</th>\n",
              "      <th>2021</th>\n",
              "    </tr>\n",
              "    <tr>\n",
              "      <th>Ældersgruppe</th>\n",
              "      <th></th>\n",
              "      <th></th>\n",
              "      <th></th>\n",
              "      <th></th>\n",
              "    </tr>\n",
              "  </thead>\n",
              "  <tbody>\n",
              "    <tr>\n",
              "      <th>25 - 34 år</th>\n",
              "      <td>5.7</td>\n",
              "      <td>4.9</td>\n",
              "      <td>6.9</td>\n",
              "      <td>10.5</td>\n",
              "    </tr>\n",
              "    <tr>\n",
              "      <th>35 - 44 år</th>\n",
              "      <td>4.5</td>\n",
              "      <td>4.1</td>\n",
              "      <td>5.7</td>\n",
              "      <td>8.2</td>\n",
              "    </tr>\n",
              "    <tr>\n",
              "      <th>45 - 54 år</th>\n",
              "      <td>5.3</td>\n",
              "      <td>4.7</td>\n",
              "      <td>4.7</td>\n",
              "      <td>6.7</td>\n",
              "    </tr>\n",
              "    <tr>\n",
              "      <th>55 - 64år</th>\n",
              "      <td>5.2</td>\n",
              "      <td>4.2</td>\n",
              "      <td>5.6</td>\n",
              "      <td>7.8</td>\n",
              "    </tr>\n",
              "  </tbody>\n",
              "</table>\n",
              "</div>\n",
              "    <div class=\"colab-df-buttons\">\n",
              "\n",
              "  <div class=\"colab-df-container\">\n",
              "    <button class=\"colab-df-convert\" onclick=\"convertToInteractive('df-bc9a84b4-1069-42d1-b06a-2a9f9a83a863')\"\n",
              "            title=\"Convert this dataframe to an interactive table.\"\n",
              "            style=\"display:none;\">\n",
              "\n",
              "  <svg xmlns=\"http://www.w3.org/2000/svg\" height=\"24px\" viewBox=\"0 -960 960 960\">\n",
              "    <path d=\"M120-120v-720h720v720H120Zm60-500h600v-160H180v160Zm220 220h160v-160H400v160Zm0 220h160v-160H400v160ZM180-400h160v-160H180v160Zm440 0h160v-160H620v160ZM180-180h160v-160H180v160Zm440 0h160v-160H620v160Z\"/>\n",
              "  </svg>\n",
              "    </button>\n",
              "\n",
              "  <style>\n",
              "    .colab-df-container {\n",
              "      display:flex;\n",
              "      gap: 12px;\n",
              "    }\n",
              "\n",
              "    .colab-df-convert {\n",
              "      background-color: #E8F0FE;\n",
              "      border: none;\n",
              "      border-radius: 50%;\n",
              "      cursor: pointer;\n",
              "      display: none;\n",
              "      fill: #1967D2;\n",
              "      height: 32px;\n",
              "      padding: 0 0 0 0;\n",
              "      width: 32px;\n",
              "    }\n",
              "\n",
              "    .colab-df-convert:hover {\n",
              "      background-color: #E2EBFA;\n",
              "      box-shadow: 0px 1px 2px rgba(60, 64, 67, 0.3), 0px 1px 3px 1px rgba(60, 64, 67, 0.15);\n",
              "      fill: #174EA6;\n",
              "    }\n",
              "\n",
              "    .colab-df-buttons div {\n",
              "      margin-bottom: 4px;\n",
              "    }\n",
              "\n",
              "    [theme=dark] .colab-df-convert {\n",
              "      background-color: #3B4455;\n",
              "      fill: #D2E3FC;\n",
              "    }\n",
              "\n",
              "    [theme=dark] .colab-df-convert:hover {\n",
              "      background-color: #434B5C;\n",
              "      box-shadow: 0px 1px 3px 1px rgba(0, 0, 0, 0.15);\n",
              "      filter: drop-shadow(0px 1px 2px rgba(0, 0, 0, 0.3));\n",
              "      fill: #FFFFFF;\n",
              "    }\n",
              "  </style>\n",
              "\n",
              "    <script>\n",
              "      const buttonEl =\n",
              "        document.querySelector('#df-bc9a84b4-1069-42d1-b06a-2a9f9a83a863 button.colab-df-convert');\n",
              "      buttonEl.style.display =\n",
              "        google.colab.kernel.accessAllowed ? 'block' : 'none';\n",
              "\n",
              "      async function convertToInteractive(key) {\n",
              "        const element = document.querySelector('#df-bc9a84b4-1069-42d1-b06a-2a9f9a83a863');\n",
              "        const dataTable =\n",
              "          await google.colab.kernel.invokeFunction('convertToInteractive',\n",
              "                                                    [key], {});\n",
              "        if (!dataTable) return;\n",
              "\n",
              "        const docLinkHtml = 'Like what you see? Visit the ' +\n",
              "          '<a target=\"_blank\" href=https://colab.research.google.com/notebooks/data_table.ipynb>data table notebook</a>'\n",
              "          + ' to learn more about interactive tables.';\n",
              "        element.innerHTML = '';\n",
              "        dataTable['output_type'] = 'display_data';\n",
              "        await google.colab.output.renderOutput(dataTable, element);\n",
              "        const docLink = document.createElement('div');\n",
              "        docLink.innerHTML = docLinkHtml;\n",
              "        element.appendChild(docLink);\n",
              "      }\n",
              "    </script>\n",
              "  </div>\n",
              "\n",
              "    </div>\n",
              "  </div>\n"
            ]
          },
          "metadata": {},
          "execution_count": 8
        }
      ]
    },
    {
      "cell_type": "code",
      "source": [
        "colors = ('#4CE0B3','#EE964B', '#8789C0', '#7B287D')\n",
        "ax = df.plot(kind ='bar', figsize = (6,3), color = colors)\n",
        "\n",
        "plt.xlabel('Ældersgruppe')\n",
        "plt.ylabel('Procentdel')\n",
        "plt.title('Andel af Kvinder i København der ofte er uønsket alene: Ældersgruppe')\n",
        "plt.legend(title='År', loc='upper left', bbox_to_anchor=(1, 1))\n",
        "\n",
        "plt.savefig('trial_ældersgruppe.png', bbox_inches = 'tight', transparent = True)\n",
        "plt.show()"
      ],
      "metadata": {
        "colab": {
          "base_uri": "https://localhost:8080/",
          "height": 386
        },
        "id": "lFBMT9LnbtuW",
        "outputId": "9205a052-f4d2-4e06-af21-c0630eae786f"
      },
      "execution_count": null,
      "outputs": [
        {
          "output_type": "display_data",
          "data": {
            "text/plain": [
              "<Figure size 600x300 with 1 Axes>"
            ],
            "image/png": "[encoded data removed]"
          },
          "metadata": {}
        }
      ]
    },
    {
      "cell_type": "markdown",
      "source": [
        "When we look at the data for women living in Copenhagen we can see a difference in the age groups. In every age group, the highest level of lonliness is shown in the most recent year (2021)."
      ],
      "metadata": {
        "id": "PtGBU8UNuXbi"
      }
    },
    {
      "cell_type": "code",
      "source": [
        "job_data = {\n",
        "    '2013': pd.Series([6.4, 13.4, 15.3, 3.1], index = ['Uddannelsessøgende','Arbejdesløs','Andre uden for arbejdsmarked','Beskæftigede']),\n",
        "    '2017':pd.Series([10, 12.6, 15.1, 4], index = ['Uddannelsessøgende','Arbejdesløs','Andre uden for arbejdsmarked','Beskæftigede']),\n",
        "    '2021':pd.Series([13.3, 13.2, 16.2, 6.1], index = ['Uddannelsessøgende','Arbejdesløs','Andre uden for arbejdsmarked','Beskæftigede'])}\n",
        "\n",
        "df1 = pd.DataFrame(job_data, columns=['2013', '2017', '2021'])\n",
        "df1.index.name = 'Erhvervsmæssig stilling'\n",
        "df1.columns.name = 'År'\n",
        "df1"
      ],
      "metadata": {
        "colab": {
          "base_uri": "https://localhost:8080/",
          "height": 206
        },
        "id": "gk5-8virc5zp",
        "outputId": "ed57aa21-f807-4996-f492-18d52759588d"
      },
      "execution_count": null,
      "outputs": [
        {
          "output_type": "execute_result",
          "data": {
            "text/plain": [
              "År                            2013  2017  2021\n",
              "Erhvervsmæssig stilling                       \n",
              "Uddannelsessøgende             6.4  10.0  13.3\n",
              "Arbejdesløs                   13.4  12.6  13.2\n",
              "Andre uden for arbejdsmarked  15.3  15.1  16.2\n",
              "Beskæftigede                   3.1   4.0   6.1"
            ],
            "text/html": [
              "\n",
              "  <div id=\"df-eab80bd2-190b-4173-b327-eb6f384a154a\" class=\"colab-df-container\">\n",
              "    <div>\n",
              "<style scoped>\n",
              "    .dataframe tbody tr th:only-of-type {\n",
              "        vertical-align: middle;\n",
              "    }\n",
              "\n",
              "    .dataframe tbody tr th {\n",
              "        vertical-align: top;\n",
              "    }\n",
              "\n",
              "    .dataframe thead th {\n",
              "        text-align: right;\n",
              "    }\n",
              "</style>\n",
              "<table border=\"1\" class=\"dataframe\">\n",
              "  <thead>\n",
              "    <tr style=\"text-align: right;\">\n",
              "      <th>År</th>\n",
              "      <th>2013</th>\n",
              "      <th>2017</th>\n",
              "      <th>2021</th>\n",
              "    </tr>\n",
              "    <tr>\n",
              "      <th>Erhvervsmæssig stilling</th>\n",
              "      <th></th>\n",
              "      <th></th>\n",
              "      <th></th>\n",
              "    </tr>\n",
              "  </thead>\n",
              "  <tbody>\n",
              "    <tr>\n",
              "      <th>Uddannelsessøgende</th>\n",
              "      <td>6.4</td>\n",
              "      <td>10.0</td>\n",
              "      <td>13.3</td>\n",
              "    </tr>\n",
              "    <tr>\n",
              "      <th>Arbejdesløs</th>\n",
              "      <td>13.4</td>\n",
              "      <td>12.6</td>\n",
              "      <td>13.2</td>\n",
              "    </tr>\n",
              "    <tr>\n",
              "      <th>Andre uden for arbejdsmarked</th>\n",
              "      <td>15.3</td>\n",
              "      <td>15.1</td>\n",
              "      <td>16.2</td>\n",
              "    </tr>\n",
              "    <tr>\n",
              "      <th>Beskæftigede</th>\n",
              "      <td>3.1</td>\n",
              "      <td>4.0</td>\n",
              "      <td>6.1</td>\n",
              "    </tr>\n",
              "  </tbody>\n",
              "</table>\n",
              "</div>\n",
              "    <div class=\"colab-df-buttons\">\n",
              "\n",
              "  <div class=\"colab-df-container\">\n",
              "    <button class=\"colab-df-convert\" onclick=\"convertToInteractive('df-eab80bd2-190b-4173-b327-eb6f384a154a')\"\n",
              "            title=\"Convert this dataframe to an interactive table.\"\n",
              "            style=\"display:none;\">\n",
              "\n",
              "  <svg xmlns=\"http://www.w3.org/2000/svg\" height=\"24px\" viewBox=\"0 -960 960 960\">\n",
              "    <path d=\"M120-120v-720h720v720H120Zm60-500h600v-160H180v160Zm220 220h160v-160H400v160Zm0 220h160v-160H400v160ZM180-400h160v-160H180v160Zm440 0h160v-160H620v160ZM180-180h160v-160H180v160Zm440 0h160v-160H620v160Z\"/>\n",
              "  </svg>\n",
              "    </button>\n",
              "\n",
              "  <style>\n",
              "    .colab-df-container {\n",
              "      display:flex;\n",
              "      gap: 12px;\n",
              "    }\n",
              "\n",
              "    .colab-df-convert {\n",
              "      background-color: #E8F0FE;\n",
              "      border: none;\n",
              "      border-radius: 50%;\n",
              "      cursor: pointer;\n",
              "      display: none;\n",
              "      fill: #1967D2;\n",
              "      height: 32px;\n",
              "      padding: 0 0 0 0;\n",
              "      width: 32px;\n",
              "    }\n",
              "\n",
              "    .colab-df-convert:hover {\n",
              "      background-color: #E2EBFA;\n",
              "      box-shadow: 0px 1px 2px rgba(60, 64, 67, 0.3), 0px 1px 3px 1px rgba(60, 64, 67, 0.15);\n",
              "      fill: #174EA6;\n",
              "    }\n",
              "\n",
              "    .colab-df-buttons div {\n",
              "      margin-bottom: 4px;\n",
              "    }\n",
              "\n",
              "    [theme=dark] .colab-df-convert {\n",
              "      background-color: #3B4455;\n",
              "      fill: #D2E3FC;\n",
              "    }\n",
              "\n",
              "    [theme=dark] .colab-df-convert:hover {\n",
              "      background-color: #434B5C;\n",
              "      box-shadow: 0px 1px 3px 1px rgba(0, 0, 0, 0.15);\n",
              "      filter: drop-shadow(0px 1px 2px rgba(0, 0, 0, 0.3));\n",
              "      fill: #FFFFFF;\n",
              "    }\n",
              "  </style>\n",
              "\n",
              "    <script>\n",
              "      const buttonEl =\n",
              "        document.querySelector('#df-eab80bd2-190b-4173-b327-eb6f384a154a button.colab-df-convert');\n",
              "      buttonEl.style.display =\n",
              "        google.colab.kernel.accessAllowed ? 'block' : 'none';\n",
              "\n",
              "      async function convertToInteractive(key) {\n",
              "        const element = document.querySelector('#df-eab80bd2-190b-4173-b327-eb6f384a154a');\n",
              "        const dataTable =\n",
              "          await google.colab.kernel.invokeFunction('convertToInteractive',\n",
              "                                                    [key], {});\n",
              "        if (!dataTable) return;\n",
              "\n",
              "        const docLinkHtml = 'Like what you see? Visit the ' +\n",
              "          '<a target=\"_blank\" href=https://colab.research.google.com/notebooks/data_table.ipynb>data table notebook</a>'\n",
              "          + ' to learn more about interactive tables.';\n",
              "        element.innerHTML = '';\n",
              "        dataTable['output_type'] = 'display_data';\n",
              "        await google.colab.output.renderOutput(dataTable, element);\n",
              "        const docLink = document.createElement('div');\n",
              "        docLink.innerHTML = docLinkHtml;\n",
              "        element.appendChild(docLink);\n",
              "      }\n",
              "    </script>\n",
              "  </div>\n",
              "\n",
              "    </div>\n",
              "  </div>\n"
            ]
          },
          "metadata": {},
          "execution_count": 10
        }
      ]
    },
    {
      "cell_type": "code",
      "source": [
        "from operator import index\n",
        "colors = ('#EE964B', '#8789C0', '#7B287D')\n",
        "ax = df1.plot(kind ='bar', figsize = (6,3), color = colors)\n",
        "\n",
        "plt.xlabel('Erhvervsmæssig stilling')\n",
        "plt.ylabel('Procentdel')\n",
        "plt.title('Andel af Kvinder i København fra 25 - 64 år Der Ofte er Uønsket Alene: Erhvervsmæssig stilling')\n",
        "plt.legend(title='År', loc='upper left', bbox_to_anchor=(1, 1))\n",
        "plt.xticks(rotation = 45, ha = 'right')\n",
        "\n",
        "plt.savefig('trial_erhv.png', bbox_inches = 'tight', transparent = True)\n",
        "plt.show()"
      ],
      "metadata": {
        "id": "k9b1c56hftCI",
        "colab": {
          "base_uri": "https://localhost:8080/",
          "height": 481
        },
        "outputId": "da240437-e930-40b6-dc9e-7c1570fbdc0a"
      },
      "execution_count": null,
      "outputs": [
        {
          "output_type": "display_data",
          "data": {
            "text/plain": [
              "<Figure size 600x300 with 1 Axes>"
            ],
            "image/png": "[encoded data removed]"
          },
          "metadata": {}
        }
      ]
    },
    {
      "cell_type": "markdown",
      "source": [
        "Here we can see the results for women who live in Copenhagen, who are 25-64 years of age, and who state that they are OFTEN alone when they don't want to be.\n",
        "\n",
        "While the results in Den Nationale Sundhedsprofil 2021 had many more categories, I focused on those that were relevant to ReDI School's programs.\n",
        "\n",
        "The categories are the following:\n",
        "- Considering beginning a educational program\n",
        "- Unemployed\n",
        "- Outside of the job market for other reasons\n",
        "- Employed\n",
        "\n",
        "Here we can see that \"Employed\" had the fewest people who reported lonliness and those \"Outside of the job market for other resons\" had the highest number.\n",
        "\n",
        "An interesting result is in the \"Unemployed\" category, where the number who reported they are lonely did not follow the trend of being the highest in 2021."
      ],
      "metadata": {
        "id": "NHOwqjYUvloe"
      }
    },
    {
      "cell_type": "markdown",
      "source": [
        "Overall, we can see that lonliness is a significant problem in Copenhagen and is becoming increasingly worse. While addressing lonliness is not the main focus of ReDI school's programs, here we can see that this reported benefit is an important finding considering the significant problem with lonliness in this population."
      ],
      "metadata": {
        "id": "AHpkV1_ix-H6"
      }
    }
  ]
}