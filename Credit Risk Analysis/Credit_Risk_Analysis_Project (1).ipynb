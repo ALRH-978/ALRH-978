{
  "nbformat": 4,
  "nbformat_minor": 0,
  "metadata": {
    "colab": {
      "provenance": []
    },
    "kernelspec": {
      "name": "python3",
      "display_name": "Python 3"
    },
    "language_info": {
      "name": "python"
    }
  },
  "cells": [
    {
      "cell_type": "markdown",
      "source": [
        "**365 DataScience: Complete Data Analyst Bootcamp**\n",
        "\n",
        "**Credit Risk Analysis Project**\n",
        "\n",
        "\n",
        "In this project, I am preparing a loan application dataset in order for it to be used in a model to predict the probability of default."
      ],
      "metadata": {
        "id": "-sI5Ng7Ylv0b"
      }
    },
    {
      "cell_type": "code",
      "source": [
        "import numpy as np"
      ],
      "metadata": {
        "id": "tidFFC7SnADr"
      },
      "execution_count": null,
      "outputs": []
    },
    {
      "cell_type": "code",
      "source": [
        "from google.colab import drive\n",
        "drive.mount('/content/gdrive')"
      ],
      "metadata": {
        "colab": {
          "base_uri": "https://localhost:8080/"
        },
        "id": "X8j-e5teoEs-",
        "outputId": "88af372a-7d03-4562-c34b-de2fefffb712"
      },
      "execution_count": null,
      "outputs": [
        {
          "output_type": "stream",
          "name": "stdout",
          "text": [
            "Mounted at /content/gdrive\n"
          ]
        }
      ]
    },
    {
      "cell_type": "code",
      "source": [
        "np.set_printoptions(suppress= True, linewidth= 100, precision= 2)"
      ],
      "metadata": {
        "id": "q7RIB27qnGzX"
      },
      "execution_count": null,
      "outputs": []
    },
    {
      "cell_type": "code",
      "source": [
        "path = '/content/gdrive/MyDrive/@Data Projects/Udemy: Loan Application Data Project/loan-data.csv'\n",
        "raw_data_np = np.genfromtxt(path, delimiter = ';', skip_header = 1, autostrip = True, encoding =  'latin1')\n",
        "raw_data_np"
      ],
      "metadata": {
        "colab": {
          "base_uri": "https://localhost:8080/"
        },
        "id": "7MTnRyXAnayW",
        "outputId": "608a9bf6-02f1-42a8-cad9-0d29ac20294d"
      },
      "execution_count": null,
      "outputs": [
        {
          "output_type": "execute_result",
          "data": {
            "text/plain": [
              "array([[48010226.  ,         nan,    35000.  , ...,         nan,         nan,     9452.96],\n",
              "       [57693261.  ,         nan,    30000.  , ...,         nan,         nan,     4679.7 ],\n",
              "       [59432726.  ,         nan,    15000.  , ...,         nan,         nan,     1969.83],\n",
              "       ...,\n",
              "       [50415990.  ,         nan,    10000.  , ...,         nan,         nan,     2185.64],\n",
              "       [46154151.  ,         nan,         nan, ...,         nan,         nan,     3199.4 ],\n",
              "       [66055249.  ,         nan,    10000.  , ...,         nan,         nan,      301.9 ]])"
            ]
          },
          "metadata": {},
          "execution_count": 8
        }
      ]
    },
    {
      "cell_type": "markdown",
      "source": [
        "**Checking For Incomplete Data**"
      ],
      "metadata": {
        "id": "qubwrT8oxoZq"
      }
    },
    {
      "cell_type": "code",
      "source": [
        "#First I will check the number of missing values\n",
        "\n",
        "np.isnan(raw_data_np).sum()"
      ],
      "metadata": {
        "colab": {
          "base_uri": "https://localhost:8080/"
        },
        "id": "kmgrgboLn0tk",
        "outputId": "6c6de0cc-e182-4bea-dcf1-a7349b876749"
      },
      "execution_count": null,
      "outputs": [
        {
          "output_type": "execute_result",
          "data": {
            "text/plain": [
              "88005"
            ]
          },
          "metadata": {},
          "execution_count": 9
        }
      ]
    },
    {
      "cell_type": "code",
      "source": [
        "#I will now establish how I will temporarily fill the missing values\n",
        "temporary_fill = np.nanmax(raw_data_np) + 1\n",
        "temporary_mean = np.nanmean(raw_data_np, axis = 0)"
      ],
      "metadata": {
        "colab": {
          "base_uri": "https://localhost:8080/"
        },
        "id": "cxVrHHKsqeLE",
        "outputId": "4a1335d5-79f3-4d8a-ef0c-2b42fc6e4d70"
      },
      "execution_count": null,
      "outputs": [
        {
          "output_type": "stream",
          "name": "stderr",
          "text": [
            "<ipython-input-10-eeff3b704aa1>:2: RuntimeWarning: Mean of empty slice\n",
            "  temporary_mean = np.nanmean(raw_data_np, axis = 0)\n"
          ]
        }
      ]
    },
    {
      "cell_type": "code",
      "source": [
        "temporary_mean"
      ],
      "metadata": {
        "colab": {
          "base_uri": "https://localhost:8080/"
        },
        "id": "tONsK6W3vnBs",
        "outputId": "7eee8a61-ddbc-4cee-b345-a481b1267458"
      },
      "execution_count": null,
      "outputs": [
        {
          "output_type": "execute_result",
          "data": {
            "text/plain": [
              "array([54015809.19,         nan,    15273.46,         nan,    15311.04,         nan,       16.62,\n",
              "            440.92,         nan,         nan,         nan,         nan,         nan,     3143.85])"
            ]
          },
          "metadata": {},
          "execution_count": 11
        }
      ]
    },
    {
      "cell_type": "markdown",
      "source": [
        "Here I can see that there are 8 columns that consist of text values. This is important as it will impact how I will split the data later on.\n"
      ],
      "metadata": {
        "id": "VC2YhhufwHIm"
      }
    },
    {
      "cell_type": "code",
      "source": [
        "temporary_stats = np.array([np.nanmin(raw_data_np, axis = 0),\n",
        "                            temporary_mean,\n",
        "                            np.nanmax(raw_data_np, axis = 0)])"
      ],
      "metadata": {
        "colab": {
          "base_uri": "https://localhost:8080/"
        },
        "id": "xctBpKvNwA6Z",
        "outputId": "2b0199f8-b4af-48ca-be13-ab66cb73194b"
      },
      "execution_count": null,
      "outputs": [
        {
          "output_type": "stream",
          "name": "stderr",
          "text": [
            "<ipython-input-12-04fda757a745>:1: RuntimeWarning: All-NaN slice encountered\n",
            "  temporary_stats = np.array([np.nanmin(raw_data_np, axis = 0),\n",
            "<ipython-input-12-04fda757a745>:3: RuntimeWarning: All-NaN slice encountered\n",
            "  np.nanmax(raw_data_np, axis = 0)])\n"
          ]
        }
      ]
    },
    {
      "cell_type": "markdown",
      "source": [
        "**Splitting the Data**"
      ],
      "metadata": {
        "id": "QUf6z03_yzvA"
      }
    },
    {
      "cell_type": "code",
      "source": [
        "#I will first determine which columns contain string values and which ones contain numeric values\n",
        "columns_strings = np.argwhere(np.isnan(temporary_mean)).squeeze()\n",
        "columns_numeric = np.argwhere(np.isnan(temporary_mean)== False).squeeze()"
      ],
      "metadata": {
        "colab": {
          "base_uri": "https://localhost:8080/"
        },
        "id": "EZhs2w4gxMiE",
        "outputId": "2af09077-3abf-409a-df8e-49cb0a4f259d"
      },
      "execution_count": null,
      "outputs": [
        {
          "output_type": "execute_result",
          "data": {
            "text/plain": [
              "array([ 0,  2,  4,  6,  7, 13])"
            ]
          },
          "metadata": {},
          "execution_count": 17
        }
      ]
    },
    {
      "cell_type": "code",
      "source": [
        "columns_strings"
      ],
      "metadata": {
        "colab": {
          "base_uri": "https://localhost:8080/"
        },
        "id": "eXwFz6yGxVU1",
        "outputId": "7426dcb6-b991-4fb9-a943-e19c5dcf4d44"
      },
      "execution_count": null,
      "outputs": [
        {
          "output_type": "execute_result",
          "data": {
            "text/plain": [
              "array([ 1,  3,  5,  8,  9, 10, 11, 12])"
            ]
          },
          "metadata": {},
          "execution_count": 18
        }
      ]
    },
    {
      "cell_type": "code",
      "source": [
        "columns_numeric"
      ],
      "metadata": {
        "colab": {
          "base_uri": "https://localhost:8080/"
        },
        "id": "KMvTN6NNztmQ",
        "outputId": "44e90072-2bbe-43d6-fd44-726b80f31c58"
      },
      "execution_count": null,
      "outputs": [
        {
          "output_type": "execute_result",
          "data": {
            "text/plain": [
              "array([ 0,  2,  4,  6,  7, 13])"
            ]
          },
          "metadata": {},
          "execution_count": 19
        }
      ]
    },
    {
      "cell_type": "markdown",
      "source": [
        "**Re-Importing the Dataset**"
      ],
      "metadata": {
        "id": "muTab-oCz2Uf"
      }
    },
    {
      "cell_type": "code",
      "source": [
        "path = '/content/gdrive/MyDrive/@Data Projects/Udemy: Loan Application Data Project/loan-data.csv'\n",
        "\n",
        "loan_data_strings = np.genfromtxt(path, delimiter = ';',\n",
        "                                  skip_header = 1,\n",
        "                                  autostrip = True,\n",
        "                                  encoding =  'latin1',\n",
        "                                  usecols = columns_strings,\n",
        "                                  dtype = np.str)\n",
        "loan_data_strings"
      ],
      "metadata": {
        "id": "1eOUvvBJzvTn"
      },
      "execution_count": null,
      "outputs": []
    },
    {
      "cell_type": "code",
      "source": [
        "loan_data_numeric = np.genfromtxt(path, delimiter = ';',\n",
        "                                  skip_header = 1,\n",
        "                                  autostrip = True,\n",
        "                                  encoding =  'latin1',\n",
        "                                  usecols = columns_numeric,\n",
        "                                  filling_values = temporary_fill)\n",
        "loan_data_numeric"
      ],
      "metadata": {
        "id": "3-hLP6sv0fQ0"
      },
      "execution_count": null,
      "outputs": []
    },
    {
      "cell_type": "markdown",
      "source": [
        "**Adding the Column Names to the 2 Datasets**"
      ],
      "metadata": {
        "id": "lvpjUjZI1RMX"
      }
    },
    {
      "cell_type": "code",
      "source": [
        "#First I will store all of the headers in a variable\n",
        "\n",
        "header_full = np.genfromtxt(path, delimiter = ';',\n",
        "                                  autostrip = True,\n",
        "                                  encoding =  'latin1',\n",
        "                                  skip_footer = raw_data_np.shape[0],\n",
        "                                  dtype = np.str)\n",
        "header_full"
      ],
      "metadata": {
        "colab": {
          "base_uri": "https://localhost:8080/"
        },
        "id": "kWMKGqyn0znc",
        "outputId": "4dcd61d4-60a1-4845-caaa-5b0fb46bab80"
      },
      "execution_count": null,
      "outputs": [
        {
          "output_type": "stream",
          "name": "stderr",
          "text": [
            "<ipython-input-24-d943cc4f2bf6>:7: DeprecationWarning: `np.str` is a deprecated alias for the builtin `str`. To silence this warning, use `str` by itself. Doing this will not modify any behavior and is safe. If you specifically wanted the numpy scalar type, use `np.str_` here.\n",
            "Deprecated in NumPy 1.20; for more details and guidance: https://numpy.org/devdocs/release/1.20.0-notes.html#deprecations\n",
            "  dtype = np.str)\n"
          ]
        },
        {
          "output_type": "execute_result",
          "data": {
            "text/plain": [
              "array(['id', 'issue_d', 'loan_amnt', 'loan_status', 'funded_amnt', 'term', 'int_rate',\n",
              "       'installment', 'grade', 'sub_grade', 'verification_status', 'url', 'addr_state',\n",
              "       'total_pymnt'], dtype='<U19')"
            ]
          },
          "metadata": {},
          "execution_count": 24
        }
      ]
    },
    {
      "cell_type": "code",
      "source": [
        "header_strings, header_numeric = header_full[columns_strings],header_full[columns_numeric],"
      ],
      "metadata": {
        "id": "LA_0Kig81ozr"
      },
      "execution_count": null,
      "outputs": []
    },
    {
      "cell_type": "code",
      "source": [
        "header_strings"
      ],
      "metadata": {
        "colab": {
          "base_uri": "https://localhost:8080/"
        },
        "id": "Qb9RslBU2vVw",
        "outputId": "25ed1e28-2adf-4822-ccd5-b1814e02e524"
      },
      "execution_count": null,
      "outputs": [
        {
          "output_type": "execute_result",
          "data": {
            "text/plain": [
              "array(['issue_d', 'loan_status', 'term', 'grade', 'sub_grade', 'verification_status', 'url',\n",
              "       'addr_state'], dtype='<U19')"
            ]
          },
          "metadata": {},
          "execution_count": 26
        }
      ]
    },
    {
      "cell_type": "code",
      "source": [
        "header_numeric"
      ],
      "metadata": {
        "colab": {
          "base_uri": "https://localhost:8080/"
        },
        "id": "K5xHopFY2ze-",
        "outputId": "fe43308e-a0aa-48ab-a8cb-f37d74926f6e"
      },
      "execution_count": null,
      "outputs": [
        {
          "output_type": "execute_result",
          "data": {
            "text/plain": [
              "array(['id', 'loan_amnt', 'funded_amnt', 'int_rate', 'installment', 'total_pymnt'], dtype='<U19')"
            ]
          },
          "metadata": {},
          "execution_count": 27
        }
      ]
    },
    {
      "cell_type": "markdown",
      "source": [
        "**Manipulating String Columns**"
      ],
      "metadata": {
        "id": "O9QMV5qB3oKH"
      }
    },
    {
      "cell_type": "code",
      "source": [
        "header_strings"
      ],
      "metadata": {
        "colab": {
          "base_uri": "https://localhost:8080/"
        },
        "id": "5Rz1igrS23F3",
        "outputId": "050aa4c4-c70b-4af2-d0df-9696a3c16280"
      },
      "execution_count": null,
      "outputs": [
        {
          "output_type": "execute_result",
          "data": {
            "text/plain": [
              "array(['issue_d', 'loan_status', 'term', 'grade', 'sub_grade', 'verification_status', 'url',\n",
              "       'addr_state'], dtype='<U19')"
            ]
          },
          "metadata": {},
          "execution_count": 28
        }
      ]
    },
    {
      "cell_type": "code",
      "source": [
        "#Since the first header might be a bit unclear, I will change it\n",
        "header_strings[0] = 'issue_date'"
      ],
      "metadata": {
        "id": "IeNT2JbH3t3K"
      },
      "execution_count": null,
      "outputs": []
    },
    {
      "cell_type": "code",
      "source": [
        "header_strings"
      ],
      "metadata": {
        "colab": {
          "base_uri": "https://localhost:8080/"
        },
        "id": "Jf7CjIYU31ki",
        "outputId": "4f8a3829-adab-40b3-a784-7ea30b5d6b7a"
      },
      "execution_count": null,
      "outputs": [
        {
          "output_type": "execute_result",
          "data": {
            "text/plain": [
              "array(['issue_date', 'loan_status', 'term', 'grade', 'sub_grade', 'verification_status', 'url',\n",
              "       'addr_state'], dtype='<U19')"
            ]
          },
          "metadata": {},
          "execution_count": 30
        }
      ]
    },
    {
      "cell_type": "markdown",
      "source": [
        "**Column 1: Issue Date**\n"
      ],
      "metadata": {
        "id": "-Ktg0mGoDZAA"
      }
    },
    {
      "cell_type": "code",
      "source": [
        "np.unique(loan_data_strings[:, 0])"
      ],
      "metadata": {
        "colab": {
          "base_uri": "https://localhost:8080/"
        },
        "id": "BBp2TSBf3295",
        "outputId": "fefe836a-8dd6-46e0-afea-bf51197c89b4"
      },
      "execution_count": null,
      "outputs": [
        {
          "output_type": "execute_result",
          "data": {
            "text/plain": [
              "array(['', 'Apr-15', 'Aug-15', 'Dec-15', 'Feb-15', 'Jan-15', 'Jul-15', 'Jun-15', 'Mar-15',\n",
              "       'May-15', 'Nov-15', 'Oct-15', 'Sep-15'], dtype='<U69')"
            ]
          },
          "metadata": {},
          "execution_count": 34
        }
      ]
    },
    {
      "cell_type": "markdown",
      "source": [
        "Here I can see that all of the loan issue dates occurred in 2015. Therefore, I can remove the '-15' without losing any meaning from the data."
      ],
      "metadata": {
        "id": "ypfOnf7s45W6"
      }
    },
    {
      "cell_type": "code",
      "source": [
        "loan_data_strings[:, 0] = np.chararray.strip(loan_data_strings[:, 0], '-15')"
      ],
      "metadata": {
        "id": "vpYvmWik44cl"
      },
      "execution_count": null,
      "outputs": []
    },
    {
      "cell_type": "code",
      "source": [
        "loan_data_strings[:, 0]"
      ],
      "metadata": {
        "colab": {
          "base_uri": "https://localhost:8080/"
        },
        "id": "YPYK8fYZ5MOk",
        "outputId": "018e7966-455a-4fa3-d5ca-6b7e4a10e0bf"
      },
      "execution_count": null,
      "outputs": [
        {
          "output_type": "execute_result",
          "data": {
            "text/plain": [
              "array(['May', '', 'Sep', ..., 'Jun', 'Apr', 'Dec'], dtype='<U69')"
            ]
          },
          "metadata": {},
          "execution_count": 38
        }
      ]
    },
    {
      "cell_type": "markdown",
      "source": [
        "In order to cut down on memory use, I will now change the month string to the corresponding integer."
      ],
      "metadata": {
        "id": "13-9Jodz51-F"
      }
    },
    {
      "cell_type": "code",
      "source": [
        "months = np.array(['', 'Jan', 'Feb', 'Mar', 'Apr', 'May', 'Jun', 'Jul', 'Aug', 'Sep', 'Oct', 'Nov', 'Dec'])"
      ],
      "metadata": {
        "id": "k72D6XTz5iwm"
      },
      "execution_count": null,
      "outputs": []
    },
    {
      "cell_type": "markdown",
      "source": [
        "I will use a for loop to iterate over the column and assign an integer for string values. \"0\" indicates missing data.\n"
      ],
      "metadata": {
        "id": "muzQ6NIx7kdm"
      }
    },
    {
      "cell_type": "code",
      "source": [
        "for i in range (13):\n",
        "  loan_data_strings[:,0] = np.where(loan_data_strings[:,0] == months[i],\n",
        "                                    i,\n",
        "                                    loan_data_strings[:,0])"
      ],
      "metadata": {
        "id": "uqq0xS5G6Y20"
      },
      "execution_count": null,
      "outputs": []
    },
    {
      "cell_type": "code",
      "source": [
        "np.unique(loan_data_strings[:,0])"
      ],
      "metadata": {
        "colab": {
          "base_uri": "https://localhost:8080/"
        },
        "id": "Q2tv0gf577aQ",
        "outputId": "bd51cf81-0237-4c27-acd8-11b7fe37cb58"
      },
      "execution_count": null,
      "outputs": [
        {
          "output_type": "execute_result",
          "data": {
            "text/plain": [
              "array(['0', '1', '10', '11', '12', '2', '3', '4', '5', '6', '7', '8', '9'], dtype='<U69')"
            ]
          },
          "metadata": {},
          "execution_count": 41
        }
      ]
    },
    {
      "cell_type": "markdown",
      "source": [
        "**Column 2: Loan Status**"
      ],
      "metadata": {
        "id": "QjDfJho7-KN5"
      }
    },
    {
      "cell_type": "code",
      "source": [
        "np.unique(loan_data_strings[:,1])"
      ],
      "metadata": {
        "colab": {
          "base_uri": "https://localhost:8080/"
        },
        "id": "ZUUdc08o8APu",
        "outputId": "251555b4-b7c7-4ae8-9167-a363292b1b15"
      },
      "execution_count": null,
      "outputs": [
        {
          "output_type": "execute_result",
          "data": {
            "text/plain": [
              "array(['', 'Charged Off', 'Current', 'Default', 'Fully Paid', 'In Grace Period', 'Issued',\n",
              "       'Late (16-30 days)', 'Late (31-120 days)'], dtype='<U69')"
            ]
          },
          "metadata": {},
          "execution_count": 43
        }
      ]
    },
    {
      "cell_type": "markdown",
      "source": [
        "In reviewing these candidates, the bank would like these statuses categorized into either \"good\" or \"bad\" financial condition. 1 will indicate \"good\", and 0 will indicate \"bad\"."
      ],
      "metadata": {
        "id": "5tDQ3zVr-XJx"
      }
    },
    {
      "cell_type": "code",
      "source": [
        "status_bad = np.array(['', 'Charged Off', 'Default', 'Late (31-120 days)'])"
      ],
      "metadata": {
        "id": "47Pf7Viu-Sg4"
      },
      "execution_count": null,
      "outputs": []
    },
    {
      "cell_type": "code",
      "source": [
        "loan_data_strings[:,1] = np.where(np.isin(loan_data_strings[:,1], status_bad), 0, 1)"
      ],
      "metadata": {
        "id": "jhFEaMyt_TtU"
      },
      "execution_count": null,
      "outputs": []
    },
    {
      "cell_type": "code",
      "source": [
        "np.unique(loan_data_strings[:,1])"
      ],
      "metadata": {
        "colab": {
          "base_uri": "https://localhost:8080/"
        },
        "id": "y1j9G8D8_63B",
        "outputId": "11a5222c-320c-42c6-ea8c-d1e4e7b7ec15"
      },
      "execution_count": null,
      "outputs": [
        {
          "output_type": "execute_result",
          "data": {
            "text/plain": [
              "array(['0', '1'], dtype='<U69')"
            ]
          },
          "metadata": {},
          "execution_count": 48
        }
      ]
    },
    {
      "cell_type": "markdown",
      "source": [
        "**Column 3: Term**"
      ],
      "metadata": {
        "id": "-zWfLbVvAhyt"
      }
    },
    {
      "cell_type": "code",
      "source": [
        "loan_data_strings[:,2]"
      ],
      "metadata": {
        "colab": {
          "base_uri": "https://localhost:8080/"
        },
        "id": "fyPI9ydzAXnF",
        "outputId": "7be7edbd-7674-4924-c8dd-07b5e1442d62"
      },
      "execution_count": null,
      "outputs": [
        {
          "output_type": "execute_result",
          "data": {
            "text/plain": [
              "array(['36 months', '36 months', '36 months', ..., '36 months', '36 months', '36 months'],\n",
              "      dtype='<U69')"
            ]
          },
          "metadata": {},
          "execution_count": 49
        }
      ]
    },
    {
      "cell_type": "markdown",
      "source": [
        "Since the text 'months' does not provide meaningful value, I will strip it from the column. I will also rename the header to \"term_months\" so that the numeric values are clear."
      ],
      "metadata": {
        "id": "IVkZOoG5BcaB"
      }
    },
    {
      "cell_type": "code",
      "source": [
        "loan_data_strings[:,2] = np.chararray.strip(loan_data_strings[:,2], ' months')\n",
        "loan_data_strings[:,2]"
      ],
      "metadata": {
        "colab": {
          "base_uri": "https://localhost:8080/"
        },
        "id": "-UF9T9zaAme6",
        "outputId": "7252cd16-47cb-449c-c791-36f7ff338505"
      },
      "execution_count": null,
      "outputs": [
        {
          "output_type": "execute_result",
          "data": {
            "text/plain": [
              "array(['36', '36', '36', ..., '36', '36', '36'], dtype='<U69')"
            ]
          },
          "metadata": {},
          "execution_count": 53
        }
      ]
    },
    {
      "cell_type": "code",
      "source": [
        "header_strings[2] = 'term_months'"
      ],
      "metadata": {
        "id": "DOvOD3AuA25o"
      },
      "execution_count": null,
      "outputs": []
    },
    {
      "cell_type": "markdown",
      "source": [
        "In credit risk modeling, one assumes the worst. Therefore, the missing values will receive the worst value of \"60\" months."
      ],
      "metadata": {
        "id": "DD_DLZYZByLW"
      }
    },
    {
      "cell_type": "code",
      "source": [
        "loan_data_strings[:, 2] = np.where(loan_data_strings[:, 2] == '',\n",
        "                                   60,\n",
        "                                   loan_data_strings[:, 2])"
      ],
      "metadata": {
        "id": "dm8yIieBBVf0"
      },
      "execution_count": null,
      "outputs": []
    },
    {
      "cell_type": "code",
      "source": [
        "np.unique(loan_data_strings[:, 2])"
      ],
      "metadata": {
        "colab": {
          "base_uri": "https://localhost:8080/"
        },
        "id": "29CJbnBfCayv",
        "outputId": "b0868f7b-5270-4480-9840-37b69b9f8f42"
      },
      "execution_count": null,
      "outputs": [
        {
          "output_type": "execute_result",
          "data": {
            "text/plain": [
              "array(['36', '60'], dtype='<U69')"
            ]
          },
          "metadata": {},
          "execution_count": 56
        }
      ]
    },
    {
      "cell_type": "markdown",
      "source": [
        "**Columns 4 & 5: Grade and Subgrade**"
      ],
      "metadata": {
        "id": "9uNvrOMBESP8"
      }
    },
    {
      "cell_type": "code",
      "source": [
        "np.unique(loan_data_strings[:, 3])"
      ],
      "metadata": {
        "colab": {
          "base_uri": "https://localhost:8080/"
        },
        "id": "T38nLRoUCk-g",
        "outputId": "55d031cd-9dad-4b62-eef1-3730fe165d0b"
      },
      "execution_count": null,
      "outputs": [
        {
          "output_type": "execute_result",
          "data": {
            "text/plain": [
              "array(['', 'A', 'B', 'C', 'D', 'E', 'F', 'G'], dtype='<U69')"
            ]
          },
          "metadata": {},
          "execution_count": 57
        }
      ]
    },
    {
      "cell_type": "code",
      "source": [
        "np.unique(loan_data_strings[:, 4])"
      ],
      "metadata": {
        "colab": {
          "base_uri": "https://localhost:8080/"
        },
        "id": "hl3sis6UEes4",
        "outputId": "f9efe81a-ec52-4e14-f471-cee61ac699d9"
      },
      "execution_count": null,
      "outputs": [
        {
          "output_type": "execute_result",
          "data": {
            "text/plain": [
              "array(['', 'A1', 'A2', 'A3', 'A4', 'A5', 'B1', 'B2', 'B3', 'B4', 'B5', 'C1', 'C2', 'C3', 'C4',\n",
              "       'C5', 'D1', 'D2', 'D3', 'D4', 'D5', 'E1', 'E2', 'E3', 'E4', 'E5', 'F1', 'F2', 'F3', 'F4',\n",
              "       'F5', 'G1', 'G2', 'G3', 'G4', 'G5'], dtype='<U69')"
            ]
          },
          "metadata": {},
          "execution_count": 58
        }
      ]
    },
    {
      "cell_type": "markdown",
      "source": [
        "When considering how to fill in the missing data in the \"Subgrade\" column, I will fill it in with the worst value in its own grade (for example: B will be B5) instead of the worst overall score - G5"
      ],
      "metadata": {
        "id": "vcyv_rcDEwhw"
      }
    },
    {
      "cell_type": "code",
      "source": [
        "for i in np.unique(loan_data_strings[:,3])[1:]:\n",
        "  loan_data_strings[:,4] = np.where((loan_data_strings[:,4] == '') & (loan_data_strings[:,3] == i),\n",
        "                                    i + '5',\n",
        "                                    loan_data_strings[:,4])"
      ],
      "metadata": {
        "id": "7b4MaNG3Ejov"
      },
      "execution_count": null,
      "outputs": []
    },
    {
      "cell_type": "code",
      "source": [
        "np.unique(loan_data_strings[:,4])"
      ],
      "metadata": {
        "colab": {
          "base_uri": "https://localhost:8080/"
        },
        "id": "f1VYDpxoF_LN",
        "outputId": "e75622bc-2b72-4ab2-bc16-cdfc21bd5e7f"
      },
      "execution_count": null,
      "outputs": [
        {
          "output_type": "execute_result",
          "data": {
            "text/plain": [
              "array(['', 'A1', 'A2', 'A3', 'A4', 'A5', 'B1', 'B2', 'B3', 'B4', 'B5', 'C1', 'C2', 'C3', 'C4',\n",
              "       'C5', 'D1', 'D2', 'D3', 'D4', 'D5', 'E1', 'E2', 'E3', 'E4', 'E5', 'F1', 'F2', 'F3', 'F4',\n",
              "       'F5', 'G1', 'G2', 'G3', 'G4', 'G5'], dtype='<U69')"
            ]
          },
          "metadata": {},
          "execution_count": 60
        }
      ]
    },
    {
      "cell_type": "markdown",
      "source": [
        "Here, I can see that there are still some missing values in this column, where both the grade and the subgrade are missing. Because credit risk analysis is risk averse, there is a penalty for not disclosing this information. The appropriate step then is to create a new category following the convention. Those applicants who do not provide any of this information will be labeled as 'H1'"
      ],
      "metadata": {
        "id": "asnurPA5GguC"
      }
    },
    {
      "cell_type": "code",
      "source": [
        "loan_data_strings[:,4] = np.where(loan_data_strings[:,4] == '',\n",
        "                                  'H1',\n",
        "                                  loan_data_strings[:,4])"
      ],
      "metadata": {
        "id": "U8u-z-_WGIr1"
      },
      "execution_count": null,
      "outputs": []
    },
    {
      "cell_type": "code",
      "source": [
        "np.unique(loan_data_strings[:,4])"
      ],
      "metadata": {
        "colab": {
          "base_uri": "https://localhost:8080/"
        },
        "id": "4ndtEnbOHXqb",
        "outputId": "21432040-c650-4bb2-f668-ce3c116dcad3"
      },
      "execution_count": null,
      "outputs": [
        {
          "output_type": "execute_result",
          "data": {
            "text/plain": [
              "array(['A1', 'A2', 'A3', 'A4', 'A5', 'B1', 'B2', 'B3', 'B4', 'B5', 'C1', 'C2', 'C3', 'C4', 'C5',\n",
              "       'D1', 'D2', 'D3', 'D4', 'D5', 'E1', 'E2', 'E3', 'E4', 'E5', 'F1', 'F2', 'F3', 'F4', 'F5',\n",
              "       'G1', 'G2', 'G3', 'G4', 'G5', 'H1'], dtype='<U69')"
            ]
          },
          "metadata": {},
          "execution_count": 62
        }
      ]
    },
    {
      "cell_type": "markdown",
      "source": [
        "At this point, the Grade column is no longer necessary, so I will drop it from the dataset."
      ],
      "metadata": {
        "id": "IRihE9nTHkgL"
      }
    },
    {
      "cell_type": "code",
      "source": [
        "loan_data_strings = np.delete(loan_data_strings, 3, axis = 1)"
      ],
      "metadata": {
        "id": "ChCWZ9fyHZmb"
      },
      "execution_count": null,
      "outputs": []
    },
    {
      "cell_type": "code",
      "source": [
        "loan_data_strings[:,3]"
      ],
      "metadata": {
        "colab": {
          "base_uri": "https://localhost:8080/"
        },
        "id": "DZWCBf8NH9Qy",
        "outputId": "050dbdae-6db2-4083-fd2c-913e6df5b777"
      },
      "execution_count": null,
      "outputs": [
        {
          "output_type": "execute_result",
          "data": {
            "text/plain": [
              "array(['C3', 'A5', 'B5', ..., 'A5', 'D2', 'A4'], dtype='<U69')"
            ]
          },
          "metadata": {},
          "execution_count": 65
        }
      ]
    },
    {
      "cell_type": "code",
      "source": [
        "header_strings = np.delete(header_strings,3)"
      ],
      "metadata": {
        "id": "fgj44lybIBcP"
      },
      "execution_count": null,
      "outputs": []
    },
    {
      "cell_type": "code",
      "source": [
        "header_strings[3]"
      ],
      "metadata": {
        "colab": {
          "base_uri": "https://localhost:8080/",
          "height": 35
        },
        "id": "F482RVObIOc_",
        "outputId": "9fa17afb-b806-4bdb-e41d-6f7ac57902a4"
      },
      "execution_count": null,
      "outputs": [
        {
          "output_type": "execute_result",
          "data": {
            "text/plain": [
              "'sub_grade'"
            ],
            "application/vnd.google.colaboratory.intrinsic+json": {
              "type": "string"
            }
          },
          "metadata": {},
          "execution_count": 67
        }
      ]
    },
    {
      "cell_type": "markdown",
      "source": [
        "I will need to assign a numeric value along with the subgrade score, so I will create a dictionary."
      ],
      "metadata": {
        "id": "njzrG3dbJPqs"
      }
    },
    {
      "cell_type": "code",
      "source": [
        "keys = list(np.unique(loan_data_strings[:,3]))\n",
        "values = list(range (1, np.unique(loan_data_strings[:,3]).shape[0] + 1))\n",
        "dict_sub_grade = dict(zip(keys, values))\n",
        "dict_sub_grade"
      ],
      "metadata": {
        "id": "vXVOKfz-IQr-"
      },
      "execution_count": null,
      "outputs": []
    },
    {
      "cell_type": "code",
      "source": [
        "#Applies the numeric score to each subgrade\n",
        "\n",
        "for i in np.unique(loan_data_strings[:,3]):\n",
        "  loan_data_strings[:,3] = np.where(loan_data_strings[:,3] == i,\n",
        "                                    dict_sub_grade[i],\n",
        "                                    loan_data_strings[:,3])"
      ],
      "metadata": {
        "id": "oGTT5p4pJw-H"
      },
      "execution_count": null,
      "outputs": []
    },
    {
      "cell_type": "code",
      "source": [
        "np.unique(loan_data_strings[:,3])"
      ],
      "metadata": {
        "colab": {
          "base_uri": "https://localhost:8080/"
        },
        "id": "oShCxI17Jynf",
        "outputId": "4e30a4db-940c-469c-cb0d-019b01bc30cd"
      },
      "execution_count": null,
      "outputs": [
        {
          "output_type": "execute_result",
          "data": {
            "text/plain": [
              "array(['1', '10', '11', '12', '13', '14', '15', '16', '17', '18', '19', '2', '20', '21', '22',\n",
              "       '23', '24', '25', '26', '27', '28', '29', '3', '30', '31', '32', '33', '34', '35', '36',\n",
              "       '4', '5', '6', '7', '8', '9'], dtype='<U69')"
            ]
          },
          "metadata": {},
          "execution_count": 72
        }
      ]
    },
    {
      "cell_type": "markdown",
      "source": [
        "**Verification Status**"
      ],
      "metadata": {
        "id": "305-eAeCKvjC"
      }
    },
    {
      "cell_type": "code",
      "source": [
        "np.unique(loan_data_strings[:,4])"
      ],
      "metadata": {
        "colab": {
          "base_uri": "https://localhost:8080/"
        },
        "id": "C1YtjocpKraF",
        "outputId": "d508b4da-be9d-4ba1-a84b-ecf50a66d13c"
      },
      "execution_count": null,
      "outputs": [
        {
          "output_type": "execute_result",
          "data": {
            "text/plain": [
              "array(['', 'Not Verified', 'Source Verified', 'Verified'], dtype='<U69')"
            ]
          },
          "metadata": {},
          "execution_count": 73
        }
      ]
    },
    {
      "cell_type": "markdown",
      "source": [
        "This column indicates in the investor's funds are verified or not. Missing data is equivalent to \"Not Verified\", while \"Source Verified\" and \"Verified\" have the same meaning. In keeping with convention, 1 will denote the \"good\" category, and 0 will mean the \"bad\" category."
      ],
      "metadata": {
        "id": "kGhMEME7LMDa"
      }
    },
    {
      "cell_type": "code",
      "source": [
        "loan_data_strings[:,4] = np.where((loan_data_strings[:,4] == '') | (loan_data_strings[:,4] == 'Not Verified'), 0, 1)"
      ],
      "metadata": {
        "id": "S6nm51piK04f"
      },
      "execution_count": null,
      "outputs": []
    },
    {
      "cell_type": "code",
      "source": [
        "np.unique(loan_data_strings[:,4])"
      ],
      "metadata": {
        "colab": {
          "base_uri": "https://localhost:8080/"
        },
        "id": "erF10gTwMLA_",
        "outputId": "1fd03b49-f0c4-4ac8-8771-2ec1a914ff2d"
      },
      "execution_count": null,
      "outputs": [
        {
          "output_type": "execute_result",
          "data": {
            "text/plain": [
              "array(['0', '1'], dtype='<U69')"
            ]
          },
          "metadata": {},
          "execution_count": 75
        }
      ]
    },
    {
      "cell_type": "markdown",
      "source": [
        "**URL**"
      ],
      "metadata": {
        "id": "47BLnBBcMjrC"
      }
    },
    {
      "cell_type": "code",
      "source": [
        "loan_data_strings[:,5]"
      ],
      "metadata": {
        "id": "yqAI_JpmMPs1"
      },
      "execution_count": null,
      "outputs": []
    },
    {
      "cell_type": "markdown",
      "source": [
        "Here, I can see that much of this information is repeated, so I will strip some of the data."
      ],
      "metadata": {
        "id": "BhGCT73DOHWm"
      }
    },
    {
      "cell_type": "code",
      "source": [
        "loan_data_strings[:,5] = np.chararray.strip(loan_data_strings[:,5], 'https://www.lendingclub.com/browse/loanDetail.action?loan_id=')"
      ],
      "metadata": {
        "id": "VvSWhyTrOBej"
      },
      "execution_count": null,
      "outputs": []
    },
    {
      "cell_type": "markdown",
      "source": [
        "I suspect that these are the same numeric values as those in the \"loan_ID\" column, but I will make sure."
      ],
      "metadata": {
        "id": "iS2BGn9OObjB"
      }
    },
    {
      "cell_type": "code",
      "source": [
        "loan_data_strings[:,5]"
      ],
      "metadata": {
        "colab": {
          "base_uri": "https://localhost:8080/"
        },
        "id": "j1CyX_NlOaJq",
        "outputId": "dbc0496a-fd68-4d0b-bdaa-ce6e8333006a"
      },
      "execution_count": null,
      "outputs": [
        {
          "output_type": "execute_result",
          "data": {
            "text/plain": [
              "array(['48010226', '57693261', '59432726', ..., '50415990', '46154151', '66055249'], dtype='<U69')"
            ]
          },
          "metadata": {},
          "execution_count": 80
        }
      ]
    },
    {
      "cell_type": "code",
      "source": [
        "loan_data_numeric[:,0]"
      ],
      "metadata": {
        "colab": {
          "base_uri": "https://localhost:8080/"
        },
        "id": "wJr513CMO2Iq",
        "outputId": "55dd3720-47d3-43ff-c65f-21a8f6a219f3"
      },
      "execution_count": null,
      "outputs": [
        {
          "output_type": "execute_result",
          "data": {
            "text/plain": [
              "array([48010226., 57693261., 59432726., ..., 50415990., 46154151., 66055249.])"
            ]
          },
          "metadata": {},
          "execution_count": 82
        }
      ]
    },
    {
      "cell_type": "code",
      "source": [
        "np.array_equal(loan_data_numeric[:,0].astype(dtype = np.int32), loan_data_strings[:,5].astype(dtype = np.int32))"
      ],
      "metadata": {
        "colab": {
          "base_uri": "https://localhost:8080/"
        },
        "id": "3TKob10iPLRq",
        "outputId": "de0f887e-f0e1-4831-dce8-5b780910ce01"
      },
      "execution_count": null,
      "outputs": [
        {
          "output_type": "execute_result",
          "data": {
            "text/plain": [
              "True"
            ]
          },
          "metadata": {},
          "execution_count": 85
        }
      ]
    },
    {
      "cell_type": "markdown",
      "source": [
        "Now that I know for certain that the info in the URL column is the same as the Loan ID, I can delete it."
      ],
      "metadata": {
        "id": "T0KWX4wdP043"
      }
    },
    {
      "cell_type": "code",
      "source": [
        "loan_data_strings = np.delete(loan_data_strings, 5, axis = 1)\n",
        "header_strings = np.delete(header_strings,5)"
      ],
      "metadata": {
        "id": "vGMxC4jxPq6R"
      },
      "execution_count": null,
      "outputs": []
    },
    {
      "cell_type": "code",
      "source": [
        "loan_data_strings[:, 5]"
      ],
      "metadata": {
        "colab": {
          "base_uri": "https://localhost:8080/"
        },
        "id": "8gHA9eaRQSpl",
        "outputId": "f9274913-2bc6-4160-d253-3ce772ed6095"
      },
      "execution_count": null,
      "outputs": [
        {
          "output_type": "execute_result",
          "data": {
            "text/plain": [
              "array(['CA', 'NY', 'PA', ..., 'CA', 'OH', 'IL'], dtype='<U69')"
            ]
          },
          "metadata": {},
          "execution_count": 87
        }
      ]
    },
    {
      "cell_type": "code",
      "source": [
        "header_strings"
      ],
      "metadata": {
        "colab": {
          "base_uri": "https://localhost:8080/"
        },
        "id": "E9IB8WyBQWaG",
        "outputId": "46dee543-0230-41fc-cf93-8a4ee5d77d77"
      },
      "execution_count": null,
      "outputs": [
        {
          "output_type": "execute_result",
          "data": {
            "text/plain": [
              "array(['issue_date', 'loan_status', 'term_months', 'sub_grade', 'verification_status',\n",
              "       'addr_state'], dtype='<U19')"
            ]
          },
          "metadata": {},
          "execution_count": 88
        }
      ]
    },
    {
      "cell_type": "markdown",
      "source": [
        "**Address State**"
      ],
      "metadata": {
        "id": "JXudyCUdQlmr"
      }
    },
    {
      "cell_type": "code",
      "source": [
        "header_strings[5]= 'state_address'"
      ],
      "metadata": {
        "id": "uRdaPiD-QrLx"
      },
      "execution_count": null,
      "outputs": []
    },
    {
      "cell_type": "code",
      "source": [
        "np.unique(loan_data_strings[:, 5], return_counts = True)"
      ],
      "metadata": {
        "colab": {
          "base_uri": "https://localhost:8080/"
        },
        "id": "oHnnSVp2QZS7",
        "outputId": "d8a36ef0-e149-4b3b-c758-7cd73eb1fd88"
      },
      "execution_count": null,
      "outputs": [
        {
          "output_type": "execute_result",
          "data": {
            "text/plain": [
              "(array(['', 'AK', 'AL', 'AR', 'AZ', 'CA', 'CO', 'CT', 'DC', 'DE', 'FL', 'GA', 'HI', 'IL', 'IN',\n",
              "        'KS', 'KY', 'LA', 'MA', 'MD', 'ME', 'MI', 'MN', 'MO', 'MS', 'MT', 'NC', 'ND', 'NE', 'NH',\n",
              "        'NJ', 'NM', 'NV', 'NY', 'OH', 'OK', 'OR', 'PA', 'RI', 'SC', 'SD', 'TN', 'TX', 'UT', 'VA',\n",
              "        'VT', 'WA', 'WI', 'WV', 'WY'], dtype='<U69'),\n",
              " array([ 500,   26,  119,   74,  220, 1336,  201,  143,   27,   27,  690,  321,   44,  389,  152,\n",
              "          84,   84,  116,  210,  222,   10,  267,  156,  160,   61,   28,  261,   16,   25,   58,\n",
              "         341,   57,  130,  777,  312,   83,  108,  320,   40,  107,   24,  143,  758,   74,  242,\n",
              "          17,  216,  148,   49,   27]))"
            ]
          },
          "metadata": {},
          "execution_count": 93
        }
      ]
    },
    {
      "cell_type": "code",
      "source": [
        "states_names, states_count = np.unique(loan_data_strings[:, 5], return_counts = True)\n",
        "states_count_sorted = np.argsort(-states_count)\n",
        "states_names[states_count_sorted], states_count[states_count_sorted]"
      ],
      "metadata": {
        "colab": {
          "base_uri": "https://localhost:8080/"
        },
        "id": "_k_ZWo0MRNeZ",
        "outputId": "645bedaa-5241-4b73-edb1-a17cbd36767e"
      },
      "execution_count": null,
      "outputs": [
        {
          "output_type": "execute_result",
          "data": {
            "text/plain": [
              "(array(['CA', 'NY', 'TX', 'FL', '', 'IL', 'NJ', 'GA', 'PA', 'OH', 'MI', 'NC', 'VA', 'MD', 'AZ',\n",
              "        'WA', 'MA', 'CO', 'MO', 'MN', 'IN', 'WI', 'CT', 'TN', 'NV', 'AL', 'LA', 'OR', 'SC', 'KY',\n",
              "        'KS', 'OK', 'UT', 'AR', 'MS', 'NH', 'NM', 'WV', 'HI', 'RI', 'MT', 'DE', 'DC', 'WY', 'AK',\n",
              "        'NE', 'SD', 'VT', 'ND', 'ME'], dtype='<U69'),\n",
              " array([1336,  777,  758,  690,  500,  389,  341,  321,  320,  312,  267,  261,  242,  222,  220,\n",
              "         216,  210,  201,  160,  156,  152,  148,  143,  143,  130,  119,  116,  108,  107,   84,\n",
              "          84,   83,   74,   74,   61,   58,   57,   49,   44,   40,   28,   27,   27,   27,   26,\n",
              "          25,   24,   17,   16,   10]))"
            ]
          },
          "metadata": {},
          "execution_count": 94
        }
      ]
    },
    {
      "cell_type": "markdown",
      "source": [
        "After sorting the states by number of applicants, I can see that the category of \"Missing Data\" is in the  5th position with 500 applicants."
      ],
      "metadata": {
        "id": "4pyy5Hx3RVq5"
      }
    },
    {
      "cell_type": "markdown",
      "source": [
        "As we can see, a large portion of the applicants have addresses in the first four states. If I divided the data by state, outliers would have a strong influence particularly on states that are less represented. Instead, I will divide them by region."
      ],
      "metadata": {
        "id": "3rvkkjexTHqA"
      }
    },
    {
      "cell_type": "code",
      "source": [
        "#Label missing data in the column as \"0\", so it won't interfere with the analysis\n",
        "loan_data_strings[:, 5] = np.where(loan_data_strings[:, 5] == '',\n",
        "                                   0,\n",
        "                                   loan_data_strings[:, 5])"
      ],
      "metadata": {
        "id": "Pvj4bIknUYmL"
      },
      "execution_count": null,
      "outputs": []
    },
    {
      "cell_type": "code",
      "source": [
        "states_west = np.array(['AZ', 'CO', 'MT', 'NM', 'NV', 'UT', 'WY', 'AK', 'CA', 'HI', 'OR', 'WA'])\n",
        "states_south = np.array(['AL','DC', 'DE', 'FL', 'GA', 'MD', 'NC', 'SC', 'VA', 'WV', 'KY', 'MS', 'TN', 'AR', 'LA', 'OK', 'TX'])\n",
        "states_midwest = np.array(['IN', 'IL', 'MI', 'OH','WI', 'KS', 'MN', 'MO', 'ND', 'NE', 'SD'])\n",
        "states_east = np.array(['CT', 'MA', 'ME', 'NH', 'RI', 'VT', 'NJ', 'NY', 'PA'])"
      ],
      "metadata": {
        "id": "zB-W0EfGUlJq"
      },
      "execution_count": null,
      "outputs": []
    },
    {
      "cell_type": "code",
      "source": [
        "loan_data_strings[:, 5] = np.where(np.isin(loan_data_strings[:, 5], states_west), 1,loan_data_strings[:, 5])\n",
        "loan_data_strings[:, 5] = np.where(np.isin(loan_data_strings[:, 5], states_south), 2,loan_data_strings[:, 5])\n",
        "loan_data_strings[:, 5] = np.where(np.isin(loan_data_strings[:, 5], states_midwest), 3,loan_data_strings[:, 5])\n",
        "loan_data_strings[:, 5] = np.where(np.isin(loan_data_strings[:, 5], states_east), 4,loan_data_strings[:, 5])"
      ],
      "metadata": {
        "id": "e5M_lXKNbAwQ"
      },
      "execution_count": null,
      "outputs": []
    },
    {
      "cell_type": "code",
      "source": [
        "np.unique(loan_data_strings[:, 5])"
      ],
      "metadata": {
        "colab": {
          "base_uri": "https://localhost:8080/"
        },
        "id": "hIfbXAXubiEn",
        "outputId": "2df739f2-7d68-42a2-a9e3-d0b60f2fdbe3"
      },
      "execution_count": null,
      "outputs": [
        {
          "output_type": "execute_result",
          "data": {
            "text/plain": [
              "array(['0', '1', '2', '3', '4'], dtype='<U69')"
            ]
          },
          "metadata": {},
          "execution_count": 101
        }
      ]
    },
    {
      "cell_type": "markdown",
      "source": [
        "Now each reqion has a corresponding numeric value."
      ],
      "metadata": {
        "id": "ykQ0t19pcCNw"
      }
    },
    {
      "cell_type": "markdown",
      "source": [
        "**Converting to Integers**"
      ],
      "metadata": {
        "id": "5_7Vo-vbcT3Y"
      }
    },
    {
      "cell_type": "code",
      "source": [
        "loan_data_strings"
      ],
      "metadata": {
        "colab": {
          "base_uri": "https://localhost:8080/"
        },
        "id": "hElBbPfcboYP",
        "outputId": "f1f42a03-ae1c-4cd4-bb83-13f0e22dbdf4"
      },
      "execution_count": null,
      "outputs": [
        {
          "output_type": "execute_result",
          "data": {
            "text/plain": [
              "array([['5', '1', '36', '13', '1', '1'],\n",
              "       ['0', '1', '36', '5', '1', '4'],\n",
              "       ['9', '1', '36', '10', '1', '4'],\n",
              "       ...,\n",
              "       ['6', '1', '36', '5', '1', '1'],\n",
              "       ['4', '1', '36', '17', '1', '3'],\n",
              "       ['12', '1', '36', '4', '0', '3']], dtype='<U69')"
            ]
          },
          "metadata": {},
          "execution_count": 102
        }
      ]
    },
    {
      "cell_type": "code",
      "source": [
        "loan_data_strings = loan_data_strings.astype(np.int)"
      ],
      "metadata": {
        "id": "ozgZLhKUcdDv"
      },
      "execution_count": null,
      "outputs": []
    },
    {
      "cell_type": "code",
      "source": [
        "loan_data_strings"
      ],
      "metadata": {
        "colab": {
          "base_uri": "https://localhost:8080/"
        },
        "id": "vVylZjTfciH5",
        "outputId": "871632d0-e6a9-4b98-a6f4-d22f51356e99"
      },
      "execution_count": null,
      "outputs": [
        {
          "output_type": "execute_result",
          "data": {
            "text/plain": [
              "array([[ 5,  1, 36, 13,  1,  1],\n",
              "       [ 0,  1, 36,  5,  1,  4],\n",
              "       [ 9,  1, 36, 10,  1,  4],\n",
              "       ...,\n",
              "       [ 6,  1, 36,  5,  1,  1],\n",
              "       [ 4,  1, 36, 17,  1,  3],\n",
              "       [12,  1, 36,  4,  0,  3]])"
            ]
          },
          "metadata": {},
          "execution_count": 105
        }
      ]
    },
    {
      "cell_type": "markdown",
      "source": [
        "**Manipulating Numeric Columns**"
      ],
      "metadata": {
        "id": "xhTRKOpUdRQm"
      }
    },
    {
      "cell_type": "code",
      "source": [
        "loan_data_numeric"
      ],
      "metadata": {
        "colab": {
          "base_uri": "https://localhost:8080/"
        },
        "id": "FNbI43ZidWHC",
        "outputId": "f9d4f71b-95b6-41f8-8ae1-99e26781d9bb"
      },
      "execution_count": null,
      "outputs": [
        {
          "output_type": "execute_result",
          "data": {
            "text/plain": [
              "array([[48010226.  ,    35000.  ,    35000.  ,       13.33,     1184.86,     9452.96],\n",
              "       [57693261.  ,    30000.  ,    30000.  , 68616520.  ,      938.57,     4679.7 ],\n",
              "       [59432726.  ,    15000.  ,    15000.  , 68616520.  ,      494.86,     1969.83],\n",
              "       ...,\n",
              "       [50415990.  ,    10000.  ,    10000.  , 68616520.  , 68616520.  ,     2185.64],\n",
              "       [46154151.  , 68616520.  ,    10000.  ,       16.55,      354.3 ,     3199.4 ],\n",
              "       [66055249.  ,    10000.  ,    10000.  , 68616520.  ,      309.97,      301.9 ]])"
            ]
          },
          "metadata": {},
          "execution_count": 106
        }
      ]
    },
    {
      "cell_type": "code",
      "source": [
        "np.isnan(loan_data_numeric).sum()"
      ],
      "metadata": {
        "colab": {
          "base_uri": "https://localhost:8080/"
        },
        "id": "Sp-j12lHdYb0",
        "outputId": "b20868ae-5a73-4317-9f93-0ade29e2f16d"
      },
      "execution_count": null,
      "outputs": [
        {
          "output_type": "execute_result",
          "data": {
            "text/plain": [
              "0"
            ]
          },
          "metadata": {},
          "execution_count": 107
        }
      ]
    },
    {
      "cell_type": "markdown",
      "source": [
        "I can see that there are no longer any 'nan' values."
      ],
      "metadata": {
        "id": "3uMR_mEcvUJ5"
      }
    },
    {
      "cell_type": "markdown",
      "source": [
        "**ID**"
      ],
      "metadata": {
        "id": "wgoUqAOOeOXE"
      }
    },
    {
      "cell_type": "code",
      "source": [
        "header_numeric"
      ],
      "metadata": {
        "colab": {
          "base_uri": "https://localhost:8080/"
        },
        "id": "So5BRqKbdb4A",
        "outputId": "54efe4f3-81ba-41ed-da20-a147b65e70cc"
      },
      "execution_count": null,
      "outputs": [
        {
          "output_type": "execute_result",
          "data": {
            "text/plain": [
              "array(['id', 'loan_amnt', 'funded_amnt', 'int_rate', 'installment', 'total_pymnt'], dtype='<U19')"
            ]
          },
          "metadata": {},
          "execution_count": 108
        }
      ]
    },
    {
      "cell_type": "code",
      "source": [
        "temporary_fill"
      ],
      "metadata": {
        "colab": {
          "base_uri": "https://localhost:8080/"
        },
        "id": "We9mDdTPdjCM",
        "outputId": "07546109-2684-45b2-f2e8-e7578be320ab"
      },
      "execution_count": null,
      "outputs": [
        {
          "output_type": "execute_result",
          "data": {
            "text/plain": [
              "68616520.0"
            ]
          },
          "metadata": {},
          "execution_count": 109
        }
      ]
    },
    {
      "cell_type": "code",
      "source": [
        "#I will first see if the filler value was used in the ID column\n",
        "np.isin(loan_data_numeric[:,0], temporary_fill).sum()"
      ],
      "metadata": {
        "colab": {
          "base_uri": "https://localhost:8080/"
        },
        "id": "2xBV-b4edlUD",
        "outputId": "803b0654-ffd9-4df8-fc1d-6fb12a617d44"
      },
      "execution_count": null,
      "outputs": [
        {
          "output_type": "execute_result",
          "data": {
            "text/plain": [
              "0"
            ]
          },
          "metadata": {},
          "execution_count": 110
        }
      ]
    },
    {
      "cell_type": "code",
      "source": [
        "header_numeric"
      ],
      "metadata": {
        "colab": {
          "base_uri": "https://localhost:8080/"
        },
        "id": "C2oGopIVeXEV",
        "outputId": "80ffe4e2-d7cf-4c9a-99e2-cd9370fbd9d6"
      },
      "execution_count": null,
      "outputs": [
        {
          "output_type": "execute_result",
          "data": {
            "text/plain": [
              "array(['id', 'loan_amnt', 'funded_amnt', 'int_rate', 'installment', 'total_pymnt'], dtype='<U19')"
            ]
          },
          "metadata": {},
          "execution_count": 111
        }
      ]
    },
    {
      "cell_type": "markdown",
      "source": [
        "For all of these categories the \"worst\" value is the max, except for \"funded-amt' where it is the minimum. This will help guide how I fill in the missing data."
      ],
      "metadata": {
        "id": "dME1oICheaZ8"
      }
    },
    {
      "cell_type": "markdown",
      "source": [
        "**Temporary Stats**"
      ],
      "metadata": {
        "id": "9kM7XvlEeSL2"
      }
    },
    {
      "cell_type": "code",
      "source": [
        "temporary_stats[:, columns_numeric]"
      ],
      "metadata": {
        "colab": {
          "base_uri": "https://localhost:8080/"
        },
        "id": "VIzHWYhUdx5A",
        "outputId": "36d2855e-fb2d-49e5-c7b8-083e5e9a1385"
      },
      "execution_count": null,
      "outputs": [
        {
          "output_type": "execute_result",
          "data": {
            "text/plain": [
              "array([[  373332.  ,     1000.  ,     1000.  ,        6.  ,       31.42,        0.  ],\n",
              "       [54015809.19,    15273.46,    15311.04,       16.62,      440.92,     3143.85],\n",
              "       [68616519.  ,    35000.  ,    35000.  ,       28.99,     1372.97,    41913.62]])"
            ]
          },
          "metadata": {},
          "execution_count": 113
        }
      ]
    },
    {
      "cell_type": "markdown",
      "source": [
        "**Funded Amount**"
      ],
      "metadata": {
        "id": "BlySuinTfK4O"
      }
    },
    {
      "cell_type": "code",
      "source": [
        "loan_data_numeric[:,2]"
      ],
      "metadata": {
        "colab": {
          "base_uri": "https://localhost:8080/"
        },
        "id": "MzIx-8grerbN",
        "outputId": "7352c437-33a6-4cfc-b968-ad734b57e1d8"
      },
      "execution_count": null,
      "outputs": [
        {
          "output_type": "execute_result",
          "data": {
            "text/plain": [
              "array([35000., 30000., 15000., ..., 10000., 10000., 10000.])"
            ]
          },
          "metadata": {},
          "execution_count": 114
        }
      ]
    },
    {
      "cell_type": "code",
      "source": [
        "loan_data_numeric[:,2] = np.where(loan_data_numeric[:,2] == temporary_fill,\n",
        "temporary_stats[0, columns_numeric[2]],\n",
        "loan_data_numeric[:,2])\n",
        "\n",
        "loan_data_numeric[:,2]"
      ],
      "metadata": {
        "colab": {
          "base_uri": "https://localhost:8080/"
        },
        "id": "GVqf6gvgfS0L",
        "outputId": "b68e7f0b-5c31-466c-8ed9-2386ca434a2c"
      },
      "execution_count": null,
      "outputs": [
        {
          "output_type": "execute_result",
          "data": {
            "text/plain": [
              "array([35000., 30000., 15000., ..., 10000., 10000., 10000.])"
            ]
          },
          "metadata": {},
          "execution_count": 116
        }
      ]
    },
    {
      "cell_type": "markdown",
      "source": [
        "**Loaned Amount, Interest Rate, Total Payment, & Installment**"
      ],
      "metadata": {
        "id": "_4Zix_7mgYKI"
      }
    },
    {
      "cell_type": "markdown",
      "source": [
        "For these categories, the max value in the column will be used to fill in the missing values."
      ],
      "metadata": {
        "id": "SV0jC7ApghaJ"
      }
    },
    {
      "cell_type": "code",
      "source": [
        "header_numeric"
      ],
      "metadata": {
        "colab": {
          "base_uri": "https://localhost:8080/"
        },
        "id": "VDvRH_GEfzC1",
        "outputId": "206c3752-04cb-4267-d47f-d2ab218b80b9"
      },
      "execution_count": null,
      "outputs": [
        {
          "output_type": "execute_result",
          "data": {
            "text/plain": [
              "array(['id', 'loan_amnt', 'funded_amnt', 'int_rate', 'installment', 'total_pymnt'], dtype='<U19')"
            ]
          },
          "metadata": {},
          "execution_count": 117
        }
      ]
    },
    {
      "cell_type": "code",
      "source": [
        "for i in [1,3,4,5]:\n",
        "  loan_data_numeric[:, 1] = np.where(loan_data_numeric[:, i] == temporary_fill,\n",
        "temporary_stats[2, columns_numeric[i]],\n",
        "loan_data_numeric[:,i])"
      ],
      "metadata": {
        "id": "ppqNlflkgqcd"
      },
      "execution_count": null,
      "outputs": []
    },
    {
      "cell_type": "code",
      "source": [
        "loan_data_numeric"
      ],
      "metadata": {
        "colab": {
          "base_uri": "https://localhost:8080/"
        },
        "id": "dxvWN5ithGCc",
        "outputId": "4325cd18-515c-4e04-ff9f-7faf4405f90f"
      },
      "execution_count": null,
      "outputs": [
        {
          "output_type": "execute_result",
          "data": {
            "text/plain": [
              "array([[48010226.  ,     9452.96,    35000.  ,       13.33,     1184.86,     9452.96],\n",
              "       [57693261.  ,     4679.7 ,    30000.  , 68616520.  ,      938.57,     4679.7 ],\n",
              "       [59432726.  ,     1969.83,    15000.  , 68616520.  ,      494.86,     1969.83],\n",
              "       ...,\n",
              "       [50415990.  ,     2185.64,    10000.  , 68616520.  , 68616520.  ,     2185.64],\n",
              "       [46154151.  ,     3199.4 ,    10000.  ,       16.55,      354.3 ,     3199.4 ],\n",
              "       [66055249.  ,      301.9 ,    10000.  , 68616520.  ,      309.97,      301.9 ]])"
            ]
          },
          "metadata": {},
          "execution_count": 119
        }
      ]
    },
    {
      "cell_type": "markdown",
      "source": [
        "**Currency Conversion**"
      ],
      "metadata": {
        "id": "2MxeARe9hToE"
      }
    },
    {
      "cell_type": "markdown",
      "source": [
        "This data came from the US office to the main European bank. Therefore, the amounts that are in USD need to be converted to EUR."
      ],
      "metadata": {
        "id": "9A9TeFu_hZvP"
      }
    },
    {
      "cell_type": "code",
      "source": [
        "#Dataset of Monthly Exchange Rates for 2015\n",
        "EUR_USD = np.genfromtxt('/content/gdrive/MyDrive/@Data Projects/Udemy: Loan Application Data Project/EUR-USD.csv', delimiter= ',', autostrip = True, skip_header= 1, usecols = 3)\n",
        "EUR_USD"
      ],
      "metadata": {
        "colab": {
          "base_uri": "https://localhost:8080/"
        },
        "id": "SQQgXFb4hLM6",
        "outputId": "f8269eaf-3c17-4fd8-d800-b7964d84d452"
      },
      "execution_count": null,
      "outputs": [
        {
          "output_type": "execute_result",
          "data": {
            "text/plain": [
              "array([1.13, 1.12, 1.08, 1.11, 1.1 , 1.12, 1.09, 1.13, 1.13, 1.1 , 1.06, 1.09])"
            ]
          },
          "metadata": {},
          "execution_count": 124
        }
      ]
    },
    {
      "cell_type": "markdown",
      "source": [
        "**Adding a Monthly Exchange Rate Column to the Dataset**"
      ],
      "metadata": {
        "id": "zu7_fVS8lp-j"
      }
    },
    {
      "cell_type": "code",
      "source": [
        "loan_data_strings[:,0]"
      ],
      "metadata": {
        "colab": {
          "base_uri": "https://localhost:8080/"
        },
        "id": "RFKUWjH_iVMu",
        "outputId": "e1234318-e70c-450e-ce09-b28dca4d2ff5"
      },
      "execution_count": null,
      "outputs": [
        {
          "output_type": "execute_result",
          "data": {
            "text/plain": [
              "array([ 5,  0,  9, ...,  6,  4, 12])"
            ]
          },
          "metadata": {},
          "execution_count": 125
        }
      ]
    },
    {
      "cell_type": "code",
      "source": [
        "exchange_rate = loan_data_strings[:,0]\n",
        "\n",
        "for i in range(1,13):\n",
        "  exchange_rate = np.where(exchange_rate == i,\n",
        "                           EUR_USD[i-1],\n",
        "                           exchange_rate)\n",
        "\n",
        "  exchange_rate = np.where(exchange_rate == 0,\n",
        "                           np.mean(EUR_USD),\n",
        "                           exchange_rate)\n",
        "  exchange_rate"
      ],
      "metadata": {
        "id": "N2xmvNcajaTX"
      },
      "execution_count": null,
      "outputs": []
    },
    {
      "cell_type": "code",
      "source": [
        "  exchange_rate"
      ],
      "metadata": {
        "colab": {
          "base_uri": "https://localhost:8080/"
        },
        "id": "-NH6njr6kKkR",
        "outputId": "bc900598-b0c6-46cd-9e57-3b11fa013391"
      },
      "execution_count": null,
      "outputs": [
        {
          "output_type": "execute_result",
          "data": {
            "text/plain": [
              "array([1.1 , 1.11, 1.13, ..., 1.12, 1.11, 1.09])"
            ]
          },
          "metadata": {},
          "execution_count": 128
        }
      ]
    },
    {
      "cell_type": "code",
      "source": [
        "  exchange_rate.shape"
      ],
      "metadata": {
        "colab": {
          "base_uri": "https://localhost:8080/"
        },
        "id": "GBguSkO3kPkX",
        "outputId": "7c33e035-1eab-4781-c616-732c0992d308"
      },
      "execution_count": null,
      "outputs": [
        {
          "output_type": "execute_result",
          "data": {
            "text/plain": [
              "(10000,)"
            ]
          },
          "metadata": {},
          "execution_count": 129
        }
      ]
    },
    {
      "cell_type": "code",
      "source": [
        "loan_data_numeric.shape"
      ],
      "metadata": {
        "colab": {
          "base_uri": "https://localhost:8080/"
        },
        "id": "h44pTSX6kS-m",
        "outputId": "1d3fcbb1-cb3d-4633-dd0f-ca173f0cc27e"
      },
      "execution_count": null,
      "outputs": [
        {
          "output_type": "execute_result",
          "data": {
            "text/plain": [
              "(10000, 6)"
            ]
          },
          "metadata": {},
          "execution_count": 131
        }
      ]
    },
    {
      "cell_type": "code",
      "source": [
        "exchange_rate = np.reshape(exchange_rate, (10000,1))"
      ],
      "metadata": {
        "id": "qeb7DO9wkYm2"
      },
      "execution_count": null,
      "outputs": []
    },
    {
      "cell_type": "code",
      "source": [
        "loan_data_numeric = np.hstack((loan_data_numeric, exchange_rate))"
      ],
      "metadata": {
        "id": "rBsdXU8IksSj"
      },
      "execution_count": null,
      "outputs": []
    },
    {
      "cell_type": "code",
      "source": [
        "header_numeric = np.concatenate((header_numeric, np.array(['exchange_rate'])))\n",
        "header_numeric"
      ],
      "metadata": {
        "colab": {
          "base_uri": "https://localhost:8080/"
        },
        "id": "x4sq0Et2kxCj",
        "outputId": "0837c0e0-a0c6-461d-c542-633e545c580c"
      },
      "execution_count": null,
      "outputs": [
        {
          "output_type": "execute_result",
          "data": {
            "text/plain": [
              "array(['id', 'loan_amnt', 'funded_amnt', 'int_rate', 'installment', 'total_pymnt', 'exchange_rate'],\n",
              "      dtype='<U19')"
            ]
          },
          "metadata": {},
          "execution_count": 139
        }
      ]
    },
    {
      "cell_type": "markdown",
      "source": [
        "**From USD to EUR**"
      ],
      "metadata": {
        "id": "kKrpaNnCl6ke"
      }
    },
    {
      "cell_type": "code",
      "source": [
        "columns_dollar = np.array([1,2,4,5])"
      ],
      "metadata": {
        "id": "EX_yCpkwlIEV"
      },
      "execution_count": null,
      "outputs": []
    },
    {
      "cell_type": "code",
      "source": [
        "loan_data_numeric[:, 6]"
      ],
      "metadata": {
        "colab": {
          "base_uri": "https://localhost:8080/"
        },
        "id": "A2hXoj3cmHDt",
        "outputId": "c0fc5f32-63d6-4e6f-c1f7-7bac7930acce"
      },
      "execution_count": null,
      "outputs": [
        {
          "output_type": "execute_result",
          "data": {
            "text/plain": [
              "array([1.1 , 1.11, 1.13, ..., 1.12, 1.11, 1.09])"
            ]
          },
          "metadata": {},
          "execution_count": 142
        }
      ]
    },
    {
      "cell_type": "markdown",
      "source": [
        "I will now use a for loop to divide all of the USD values in the specified columns by the exchange rate column in order to provide a EUR value."
      ],
      "metadata": {
        "id": "ikXVfKxFnbeo"
      }
    },
    {
      "cell_type": "code",
      "source": [
        "for i in columns_dollar:\n",
        "  loan_data_numeric = np.hstack((loan_data_numeric,\n",
        "                                np.reshape(loan_data_numeric[:, i]/loan_data_numeric[:,6], (10000,1))))"
      ],
      "metadata": {
        "id": "7jJjH8BamMww"
      },
      "execution_count": null,
      "outputs": []
    },
    {
      "cell_type": "code",
      "source": [
        "loan_data_numeric.shape"
      ],
      "metadata": {
        "colab": {
          "base_uri": "https://localhost:8080/"
        },
        "id": "OFfQFrJHnKTL",
        "outputId": "f2e18909-10a1-4452-eb15-fa5ad7a1f774"
      },
      "execution_count": null,
      "outputs": [
        {
          "output_type": "execute_result",
          "data": {
            "text/plain": [
              "(10000, 11)"
            ]
          },
          "metadata": {},
          "execution_count": 146
        }
      ]
    },
    {
      "cell_type": "markdown",
      "source": [
        "**Expanding the header**"
      ],
      "metadata": {
        "id": "WUSla1M_oB88"
      }
    },
    {
      "cell_type": "markdown",
      "source": [
        "I will add more information in the headers to clearly indicate the currency of the column."
      ],
      "metadata": {
        "id": "oYgXrPVhprmh"
      }
    },
    {
      "cell_type": "code",
      "source": [
        "header_additional = np.array([column_name + \"_EUR\" for column_name in header_numeric[columns_dollar]])"
      ],
      "metadata": {
        "id": "NLHyLSyUn2dz"
      },
      "execution_count": null,
      "outputs": []
    },
    {
      "cell_type": "code",
      "source": [
        "header_additional"
      ],
      "metadata": {
        "colab": {
          "base_uri": "https://localhost:8080/"
        },
        "id": "asaoNRqaoc3q",
        "outputId": "1691143f-6c75-4bdf-b927-ac778c52c1f5"
      },
      "execution_count": null,
      "outputs": [
        {
          "output_type": "execute_result",
          "data": {
            "text/plain": [
              "array(['loan_amnt_EUR', 'funded_amnt_EUR', 'installment_EUR', 'total_pymnt_EUR'], dtype='<U15')"
            ]
          },
          "metadata": {},
          "execution_count": 149
        }
      ]
    },
    {
      "cell_type": "code",
      "source": [
        "header_numeric = np.concatenate((header_numeric, header_additional))"
      ],
      "metadata": {
        "id": "Nh0FqRtVok4g"
      },
      "execution_count": null,
      "outputs": []
    },
    {
      "cell_type": "code",
      "source": [
        "header_numeric"
      ],
      "metadata": {
        "colab": {
          "base_uri": "https://localhost:8080/"
        },
        "id": "YIH9lyUio1Up",
        "outputId": "01e1dfd3-a3bc-44b0-95f8-3211f383c3a8"
      },
      "execution_count": null,
      "outputs": [
        {
          "output_type": "execute_result",
          "data": {
            "text/plain": [
              "array(['id', 'loan_amnt', 'funded_amnt', 'int_rate', 'installment', 'total_pymnt', 'exchange_rate',\n",
              "       'loan_amnt_EUR', 'funded_amnt_EUR', 'installment_EUR', 'total_pymnt_EUR'], dtype='<U19')"
            ]
          },
          "metadata": {},
          "execution_count": 151
        }
      ]
    },
    {
      "cell_type": "code",
      "source": [
        "header_numeric[columns_dollar] = np.array([column_name + \"_USD\" for column_name in header_numeric[columns_dollar]])"
      ],
      "metadata": {
        "id": "ug30zTLio3jO"
      },
      "execution_count": null,
      "outputs": []
    },
    {
      "cell_type": "code",
      "source": [
        "header_numeric"
      ],
      "metadata": {
        "colab": {
          "base_uri": "https://localhost:8080/"
        },
        "id": "vnvFShahpJLg",
        "outputId": "a7910dac-9b0d-4960-ae0f-944dbbc86718"
      },
      "execution_count": null,
      "outputs": [
        {
          "output_type": "execute_result",
          "data": {
            "text/plain": [
              "array(['id', 'loan_amnt_USD', 'funded_amnt_USD', 'int_rate', 'installment_USD', 'total_pymnt_USD',\n",
              "       'exchange_rate', 'loan_amnt_EUR', 'funded_amnt_EUR', 'installment_EUR', 'total_pymnt_EUR'],\n",
              "      dtype='<U19')"
            ]
          },
          "metadata": {},
          "execution_count": 153
        }
      ]
    },
    {
      "cell_type": "code",
      "source": [
        "columns_index_order = [0,1,7,2,8,3,4,9,5,10,6]"
      ],
      "metadata": {
        "id": "-ZG-uKtapMLg"
      },
      "execution_count": null,
      "outputs": []
    },
    {
      "cell_type": "code",
      "source": [
        "header_numeric = header_numeric[columns_index_order]"
      ],
      "metadata": {
        "id": "UNd2M41XpfWL"
      },
      "execution_count": null,
      "outputs": []
    },
    {
      "cell_type": "code",
      "source": [
        "loan_data_numeric = loan_data_numeric[:, columns_index_order]"
      ],
      "metadata": {
        "id": "xKlwiKetpijs"
      },
      "execution_count": null,
      "outputs": []
    },
    {
      "cell_type": "markdown",
      "source": [
        "**Creating the Complete Dataset**"
      ],
      "metadata": {
        "id": "i8YSIhEIq9BP"
      }
    },
    {
      "cell_type": "code",
      "source": [
        "loan_data_strings.shape"
      ],
      "metadata": {
        "colab": {
          "base_uri": "https://localhost:8080/"
        },
        "id": "WXD_6S0zrLaq",
        "outputId": "15b2cad0-8a14-4459-988d-2fbb9d890f9e"
      },
      "execution_count": null,
      "outputs": [
        {
          "output_type": "execute_result",
          "data": {
            "text/plain": [
              "(10000, 6)"
            ]
          },
          "metadata": {},
          "execution_count": 166
        }
      ]
    },
    {
      "cell_type": "code",
      "source": [
        "loan_data_numeric.shape"
      ],
      "metadata": {
        "colab": {
          "base_uri": "https://localhost:8080/"
        },
        "id": "Qk6NI0yVrWfV",
        "outputId": "a238b8dc-cfac-404e-8c62-d824d58ae74f"
      },
      "execution_count": null,
      "outputs": [
        {
          "output_type": "execute_result",
          "data": {
            "text/plain": [
              "(10000, 11)"
            ]
          },
          "metadata": {},
          "execution_count": 167
        }
      ]
    },
    {
      "cell_type": "code",
      "source": [
        "loan_data = np.hstack((loan_data_numeric, loan_data_strings))"
      ],
      "metadata": {
        "id": "mK8AZ2nOrYvd"
      },
      "execution_count": null,
      "outputs": []
    },
    {
      "cell_type": "code",
      "source": [
        "np.isnan(loan_data).sum()"
      ],
      "metadata": {
        "colab": {
          "base_uri": "https://localhost:8080/"
        },
        "id": "W-avsfwUrttv",
        "outputId": "d41f145d-2e00-4150-be04-2b6c97cf10a8"
      },
      "execution_count": null,
      "outputs": [
        {
          "output_type": "execute_result",
          "data": {
            "text/plain": [
              "0"
            ]
          },
          "metadata": {},
          "execution_count": 172
        }
      ]
    },
    {
      "cell_type": "code",
      "source": [
        "header_full = np.concatenate((header_numeric, header_strings))"
      ],
      "metadata": {
        "id": "bSdqz_H7r96e"
      },
      "execution_count": null,
      "outputs": []
    },
    {
      "cell_type": "markdown",
      "source": [
        "**Sorting the New Dataset**"
      ],
      "metadata": {
        "id": "Y7R74H3esNHN"
      }
    },
    {
      "cell_type": "code",
      "source": [
        "loan_data = loan_data[np.argsort(loan_data[:,0])]"
      ],
      "metadata": {
        "id": "_Y04gTDYsR0O"
      },
      "execution_count": null,
      "outputs": []
    },
    {
      "cell_type": "code",
      "source": [
        "loan_data = np.vstack((header_full, loan_data))"
      ],
      "metadata": {
        "id": "OtvsKmC4sfuN"
      },
      "execution_count": null,
      "outputs": []
    },
    {
      "cell_type": "code",
      "source": [
        "np.savetxt('loan_data_preprocessed.csv',\n",
        "           loan_data, fmt = '%s')"
      ],
      "metadata": {
        "id": "U0Z8aU7Ds79h"
      },
      "execution_count": null,
      "outputs": []
    },
    {
      "cell_type": "markdown",
      "source": [
        "Now, the dataset is ready for a model to predict probability of default. The text values have been changed to numeric values, monetary values from USD to EUR were calculated using daily exchange rate values, and principles of credit risk analysis guided decisions around categorizing applicants."
      ],
      "metadata": {
        "id": "sLsLdU2_6mH4"
      }
    },
    {
      "cell_type": "code",
      "source": [],
      "metadata": {
        "id": "YuZdNDmptqm8"
      },
      "execution_count": null,
      "outputs": []
    },
    {
      "cell_type": "markdown",
      "source": [],
      "metadata": {
        "id": "wYNc7CB_9ScG"
      }
    }
  ]
}